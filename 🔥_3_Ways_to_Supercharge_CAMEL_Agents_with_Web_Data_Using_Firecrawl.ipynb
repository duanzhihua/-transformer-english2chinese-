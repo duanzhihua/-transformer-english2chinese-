{
  "cells": [
    {
      "cell_type": "markdown",
      "metadata": {
        "id": "view-in-github",
        "colab_type": "text"
      },
      "source": [
        "<a href=\"https://colab.research.google.com/github/duanzhihua/-transformer-english2chinese-/blob/main/%F0%9F%94%A5_3_Ways_to_Supercharge_CAMEL_Agents_with_Web_Data_Using_Firecrawl.ipynb\" target=\"_parent\"><img src=\"https://colab.research.google.com/assets/colab-badge.svg\" alt=\"Open In Colab\"/></a>"
      ]
    },
    {
      "cell_type": "markdown",
      "source": [
        "\n",
        "# 🔥 3 ways to ingest data from websites with Firecrawl\n",
        "\n",
        "You can also check this cookbook in colab [here](https://colab.research.google.com/drive/1lOmM3VmgR1hLwDKdeLGFve_75RFW0R9I?usp=sharing)\n",
        "\n",
        "In this blog, we’ll introduce Firecrawl, a versatile web scraping and crawling tool designed to extract data efficiently from websites, which has been integrated with CAMEL. Today we’ll walk through three key features—Scrape, Crawl, and Map—each tailored with a CAMEL agent use case.\n",
        "\n",
        "## Table of Content:\n",
        "\n",
        "1.   Introduction\n",
        "2.  🔥 Firecrawl: To crawl\n",
        "3.  🔥 Firecrawl: To Scrape\n",
        "4.  🔥 Firecrawl: To Map\n",
        "5.  Conclusion\n",
        "\n",
        "\n",
        "⭐ **Star the Repo**\n",
        "\n",
        "If you find CAMEL useful or interesting, please consider giving it a star on our [CAMEL GitHub Repo](https://github.com/camel-ai/camel)! Your stars help others find this project and motivate us to continue improving it.\n",
        "\n",
        "\n"
      ],
      "metadata": {
        "id": "1Nj0Oqnoy6oJ"
      }
    },
    {
      "cell_type": "markdown",
      "source": [
        "\n",
        "## **Introduction**\n",
        "\n",
        "**Firecrawl** developed by the Mendable.ai team, is a data ingestion tool that streamlines web data extraction using web scraping, API access, and automated browser interactions. It’s ideal for collecting structured and unstructured data from websites for analytics.\n",
        "\n",
        "It effectively manages complex tasks such as handling reverse proxies, implementing caching strategies, adhering to rate limits, and accessing content blocked by JavaScript.\n",
        "\n",
        "### **Features of Firecrawl**:\n",
        "\n",
        "**Crawl**: Collects content from all URLs within a web page, converting it into an LLM-ready format for seamless analysis.\n",
        "\n",
        "**Scrape**: Extracts content from a single URL, delivering it in formats ready for LLMs, including markdown, structured data (via LLM Extract), screenshots, and HTML.\n",
        "\n",
        "**Map**: Inputs a website and retrieves all URLs associated with it at high speed, enabling a comprehensive and efficient site overview.\n",
        "\n",
        "\n",
        "\n",
        "All the above features make it ideal for collecting structured and unstructured data from websites for agentic workflows.\n",
        "***CAMEL-AI has integrated Firecrawl to enhance its web data extraction capabilities***.\n"
      ],
      "metadata": {
        "id": "rrkB7ZbPDkrC"
      }
    },
    {
      "cell_type": "markdown",
      "metadata": {
        "id": "7p-JjpyNVcCT"
      },
      "source": [
        "First, install the CAMEL package with all its dependencies and input the OPENAI API Key.\n"
      ]
    },
    {
      "cell_type": "code",
      "execution_count": null,
      "metadata": {
        "id": "I2X5A0LBc92C",
        "collapsed": true,
        "colab": {
          "base_uri": "https://localhost:8080/"
        },
        "outputId": "6948b259-dd26-4427-e590-f7c0a0f22fc0"
      },
      "outputs": [
        {
          "output_type": "stream",
          "name": "stdout",
          "text": [
            "Requirement already satisfied: camel-ai==0.2.9 in /usr/local/lib/python3.10/dist-packages (from camel-ai[all]==0.2.9) (0.2.9)\n",
            "Requirement already satisfied: colorama<1,>=0 in /usr/local/lib/python3.10/dist-packages (from camel-ai==0.2.9->camel-ai[all]==0.2.9) (0.4.6)\n",
            "Requirement already satisfied: curl_cffi==0.6.2 in /usr/local/lib/python3.10/dist-packages (from camel-ai==0.2.9->camel-ai[all]==0.2.9) (0.6.2)\n",
            "Requirement already satisfied: docstring-parser<0.16,>=0.15 in /usr/local/lib/python3.10/dist-packages (from camel-ai==0.2.9->camel-ai[all]==0.2.9) (0.15)\n",
            "Requirement already satisfied: eval-type-backport==0.2.0 in /usr/local/lib/python3.10/dist-packages (from camel-ai==0.2.9->camel-ai[all]==0.2.9) (0.2.0)\n",
            "Requirement already satisfied: jsonschema<5,>=4 in /usr/local/lib/python3.10/dist-packages (from camel-ai==0.2.9->camel-ai[all]==0.2.9) (4.23.0)\n",
            "Requirement already satisfied: numpy<2,>=1 in /usr/local/lib/python3.10/dist-packages (from camel-ai==0.2.9->camel-ai[all]==0.2.9) (1.26.4)\n",
            "Requirement already satisfied: openai<2.0.0,>=1.45.0 in /usr/local/lib/python3.10/dist-packages (from camel-ai==0.2.9->camel-ai[all]==0.2.9) (1.54.4)\n",
            "Requirement already satisfied: pandoc in /usr/local/lib/python3.10/dist-packages (from camel-ai==0.2.9->camel-ai[all]==0.2.9) (2.4)\n",
            "Requirement already satisfied: pathlib<2.0.0,>=1.0.1 in /usr/local/lib/python3.10/dist-packages (from camel-ai==0.2.9->camel-ai[all]==0.2.9) (1.0.1)\n",
            "Requirement already satisfied: protobuf<5,>=4 in /usr/local/lib/python3.10/dist-packages (from camel-ai==0.2.9->camel-ai[all]==0.2.9) (4.25.5)\n",
            "Requirement already satisfied: pydantic<3,>=1.9 in /usr/local/lib/python3.10/dist-packages (from camel-ai==0.2.9->camel-ai[all]==0.2.9) (2.9.2)\n",
            "Requirement already satisfied: tiktoken<0.8.0,>=0.7.0 in /usr/local/lib/python3.10/dist-packages (from camel-ai==0.2.9->camel-ai[all]==0.2.9) (0.7.0)\n",
            "Requirement already satisfied: PyMuPDF<2.0.0,>=1.22.5 in /usr/local/lib/python3.10/dist-packages (from camel-ai[all]==0.2.9) (1.24.14)\n",
            "Requirement already satisfied: accelerate<1,>=0 in /usr/local/lib/python3.10/dist-packages (from camel-ai[all]==0.2.9) (0.34.2)\n",
            "Requirement already satisfied: agentops<0.4.0,>=0.3.6 in /usr/local/lib/python3.10/dist-packages (from camel-ai[all]==0.2.9) (0.3.18)\n",
            "Requirement already satisfied: anthropic<0.30.0,>=0.29.0 in /usr/local/lib/python3.10/dist-packages (from camel-ai[all]==0.2.9) (0.29.2)\n",
            "Requirement already satisfied: apify_client<2.0.0,>=1.8.1 in /usr/local/lib/python3.10/dist-packages (from camel-ai[all]==0.2.9) (1.8.1)\n",
            "Requirement already satisfied: arxiv<3.0.0,>=2.1.3 in /usr/local/lib/python3.10/dist-packages (from camel-ai[all]==0.2.9) (2.1.3)\n",
            "Requirement already satisfied: arxiv2text<0.2.0,>=0.1.14 in /usr/local/lib/python3.10/dist-packages (from camel-ai[all]==0.2.9) (0.1.14)\n",
            "Requirement already satisfied: asknews<0.8.0,>=0.7.43 in /usr/local/lib/python3.10/dist-packages (from camel-ai[all]==0.2.9) (0.7.52)\n",
            "Requirement already satisfied: azure-storage-blob<13.0.0,>=12.21.0 in /usr/local/lib/python3.10/dist-packages (from camel-ai[all]==0.2.9) (12.24.0)\n",
            "Requirement already satisfied: beautifulsoup4<5,>=4 in /usr/local/lib/python3.10/dist-packages (from camel-ai[all]==0.2.9) (4.12.3)\n",
            "Requirement already satisfied: botocore<2.0.0,>=1.35.3 in /usr/local/lib/python3.10/dist-packages (from camel-ai[all]==0.2.9) (1.35.69)\n",
            "Requirement already satisfied: cohere<5.0,>=4.56 in /usr/local/lib/python3.10/dist-packages (from camel-ai[all]==0.2.9) (4.57)\n",
            "Requirement already satisfied: datacommons<2.0.0,>=1.4.3 in /usr/local/lib/python3.10/dist-packages (from camel-ai[all]==0.2.9) (1.4.3)\n",
            "Requirement already satisfied: datacommons_pandas<0.0.4,>=0.0.3 in /usr/local/lib/python3.10/dist-packages (from camel-ai[all]==0.2.9) (0.0.3)\n",
            "Requirement already satisfied: datasets<3,>=2 in /usr/local/lib/python3.10/dist-packages (from camel-ai[all]==0.2.9) (2.21.0)\n",
            "Requirement already satisfied: diffusers<1,>=0 in /usr/local/lib/python3.10/dist-packages (from camel-ai[all]==0.2.9) (0.31.0)\n",
            "Requirement already satisfied: discord.py<3.0.0,>=2.3.2 in /usr/local/lib/python3.10/dist-packages (from camel-ai[all]==0.2.9) (2.4.0)\n",
            "Requirement already satisfied: docker<8.0.0,>=7.1.0 in /usr/local/lib/python3.10/dist-packages (from camel-ai[all]==0.2.9) (7.1.0)\n",
            "Requirement already satisfied: docx2txt<0.9,>=0.8 in /usr/local/lib/python3.10/dist-packages (from camel-ai[all]==0.2.9) (0.8)\n",
            "Requirement already satisfied: duckduckgo-search<7.0.0,>=6.2.12 in /usr/local/lib/python3.10/dist-packages (from camel-ai[all]==0.2.9) (6.3.6)\n",
            "Requirement already satisfied: firecrawl-py<2.0.0,>=1.0.0 in /usr/local/lib/python3.10/dist-packages (from camel-ai[all]==0.2.9) (1.5.0)\n",
            "Requirement already satisfied: google-cloud-storage<3.0.0,>=2.18.0 in /usr/local/lib/python3.10/dist-packages (from camel-ai[all]==0.2.9) (2.18.2)\n",
            "Requirement already satisfied: google-generativeai<0.7.0,>=0.6.0 in /usr/local/lib/python3.10/dist-packages (from camel-ai[all]==0.2.9) (0.6.0)\n",
            "Requirement already satisfied: googlemaps<5.0.0,>=4.10.0 in /usr/local/lib/python3.10/dist-packages (from camel-ai[all]==0.2.9) (4.10.0)\n",
            "Requirement already satisfied: imageio<3.0.0,>=2.34.2 in /usr/local/lib/python3.10/dist-packages (from imageio[pyav]<3.0.0,>=2.34.2; extra == \"tools\" or extra == \"all\"->camel-ai[all]==0.2.9) (2.36.0)\n",
            "Requirement already satisfied: ipykernel<7.0.0,>=6.0.0 in /usr/local/lib/python3.10/dist-packages (from camel-ai[all]==0.2.9) (6.29.5)\n",
            "Requirement already satisfied: jupyter_client<9.0.0,>=8.6.2 in /usr/local/lib/python3.10/dist-packages (from camel-ai[all]==0.2.9) (8.6.3)\n",
            "Requirement already satisfied: litellm<2.0.0,>=1.38.1 in /usr/local/lib/python3.10/dist-packages (from camel-ai[all]==0.2.9) (1.52.16)\n",
            "Requirement already satisfied: mistralai<2.0.0,>=1.1.0 in /usr/local/lib/python3.10/dist-packages (from camel-ai[all]==0.2.9) (1.2.3)\n",
            "Requirement already satisfied: nebula3-python==3.8.2 in /usr/local/lib/python3.10/dist-packages (from camel-ai[all]==0.2.9) (3.8.2)\n",
            "Requirement already satisfied: neo4j<6.0.0,>=5.18.0 in /usr/local/lib/python3.10/dist-packages (from camel-ai[all]==0.2.9) (5.26.0)\n",
            "Requirement already satisfied: newspaper3k<0.3.0,>=0.2.8 in /usr/local/lib/python3.10/dist-packages (from camel-ai[all]==0.2.9) (0.2.8)\n",
            "Requirement already satisfied: nltk==3.8.1 in /usr/local/lib/python3.10/dist-packages (from camel-ai[all]==0.2.9) (3.8.1)\n",
            "Requirement already satisfied: notion-client<3.0.0,>=2.2.1 in /usr/local/lib/python3.10/dist-packages (from camel-ai[all]==0.2.9) (2.2.1)\n",
            "Requirement already satisfied: openapi-spec-validator<0.8.0,>=0.7.1 in /usr/local/lib/python3.10/dist-packages (from camel-ai[all]==0.2.9) (0.7.1)\n",
            "Requirement already satisfied: opencv-python<5,>=4 in /usr/local/lib/python3.10/dist-packages (from camel-ai[all]==0.2.9) (4.10.0.84)\n",
            "Requirement already satisfied: pdfplumber<0.12.0,>=0.11.0 in /usr/local/lib/python3.10/dist-packages (from camel-ai[all]==0.2.9) (0.11.4)\n",
            "Requirement already satisfied: pillow<11.0.0,>=10.2.0 in /usr/local/lib/python3.10/dist-packages (from camel-ai[all]==0.2.9) (10.4.0)\n",
            "Requirement already satisfied: prance<24.0.0.0,>=23.6.21.0 in /usr/local/lib/python3.10/dist-packages (from camel-ai[all]==0.2.9) (23.6.21.0)\n",
            "Requirement already satisfied: praw<8.0.0,>=7.7.1 in /usr/local/lib/python3.10/dist-packages (from camel-ai[all]==0.2.9) (7.8.1)\n",
            "Requirement already satisfied: pyTelegramBotAPI<5.0.0,>=4.18.0 in /usr/local/lib/python3.10/dist-packages (from camel-ai[all]==0.2.9) (4.24.0)\n",
            "Requirement already satisfied: pydub<0.26.0,>=0.25.1 in /usr/local/lib/python3.10/dist-packages (from camel-ai[all]==0.2.9) (0.25.1)\n",
            "Requirement already satisfied: pygithub<3.0.0,>=2.3.0 in /usr/local/lib/python3.10/dist-packages (from camel-ai[all]==0.2.9) (2.5.0)\n",
            "Requirement already satisfied: pymilvus<3.0.0,>=2.4.0 in /usr/local/lib/python3.10/dist-packages (from camel-ai[all]==0.2.9) (2.5.0)\n",
            "Requirement already satisfied: pyowm<4.0.0,>=3.3.0 in /usr/local/lib/python3.10/dist-packages (from camel-ai[all]==0.2.9) (3.3.0)\n",
            "Requirement already satisfied: qdrant-client<2.0.0,>=1.9.0 in /usr/local/lib/python3.10/dist-packages (from camel-ai[all]==0.2.9) (1.12.1)\n",
            "Requirement already satisfied: rank-bm25<0.3.0,>=0.2.2 in /usr/local/lib/python3.10/dist-packages (from camel-ai[all]==0.2.9) (0.2.2)\n",
            "Requirement already satisfied: redis<6.0.0,>=5.0.6 in /usr/local/lib/python3.10/dist-packages (from camel-ai[all]==0.2.9) (5.2.0)\n",
            "Requirement already satisfied: reka-api<4.0.0,>=3.0.8 in /usr/local/lib/python3.10/dist-packages (from camel-ai[all]==0.2.9) (3.2.0)\n",
            "Requirement already satisfied: requests_oauthlib<2.0.0,>=1.3.1 in /usr/local/lib/python3.10/dist-packages (from camel-ai[all]==0.2.9) (1.3.1)\n",
            "Requirement already satisfied: scholarly==1.7.11 in /usr/local/lib/python3.10/dist-packages (from scholarly[tor]==1.7.11; extra == \"tools\" or extra == \"all\"->camel-ai[all]==0.2.9) (1.7.11)\n",
            "Requirement already satisfied: sentence-transformers<4.0.0,>=3.0.1 in /usr/local/lib/python3.10/dist-packages (from camel-ai[all]==0.2.9) (3.2.1)\n",
            "Requirement already satisfied: sentencepiece<1,>=0 in /usr/local/lib/python3.10/dist-packages (from camel-ai[all]==0.2.9) (0.2.0)\n",
            "Requirement already satisfied: slack-bolt<2.0.0,>=1.20.1 in /usr/local/lib/python3.10/dist-packages (from camel-ai[all]==0.2.9) (1.21.2)\n",
            "Requirement already satisfied: slack-sdk<4.0.0,>=3.27.2 in /usr/local/lib/python3.10/dist-packages (from camel-ai[all]==0.2.9) (3.33.4)\n",
            "Requirement already satisfied: soundfile<1,>=0 in /usr/local/lib/python3.10/dist-packages (from camel-ai[all]==0.2.9) (0.12.1)\n",
            "Requirement already satisfied: tavily-python<0.6.0,>=0.5.0 in /usr/local/lib/python3.10/dist-packages (from camel-ai[all]==0.2.9) (0.5.0)\n",
            "Requirement already satisfied: textblob<0.19.0,>=0.18.0.post0 in /usr/local/lib/python3.10/dist-packages (from camel-ai[all]==0.2.9) (0.18.0.post0)\n",
            "Requirement already satisfied: torch<3,>=2 in /usr/local/lib/python3.10/dist-packages (from camel-ai[all]==0.2.9) (2.5.1+cu121)\n",
            "Requirement already satisfied: transformers<5,>=4 in /usr/local/lib/python3.10/dist-packages (from camel-ai[all]==0.2.9) (4.46.2)\n",
            "Requirement already satisfied: unstructured<0.15,>=0.14 in /usr/local/lib/python3.10/dist-packages (from unstructured[all-docs]<0.15,>=0.14; extra == \"rag\" or extra == \"tools\" or extra == \"all\"->camel-ai[all]==0.2.9) (0.14.10)\n",
            "Requirement already satisfied: wikipedia<2,>=1 in /usr/local/lib/python3.10/dist-packages (from camel-ai[all]==0.2.9) (1.4.0)\n",
            "Requirement already satisfied: wolframalpha<6.0.0,>=5.0.0 in /usr/local/lib/python3.10/dist-packages (from camel-ai[all]==0.2.9) (5.1.3)\n",
            "Requirement already satisfied: cffi>=1.12.0 in /usr/local/lib/python3.10/dist-packages (from curl_cffi==0.6.2->camel-ai==0.2.9->camel-ai[all]==0.2.9) (1.17.1)\n",
            "Requirement already satisfied: certifi in /usr/local/lib/python3.10/dist-packages (from curl_cffi==0.6.2->camel-ai==0.2.9->camel-ai[all]==0.2.9) (2024.8.30)\n",
            "Requirement already satisfied: future>=0.18.0 in /usr/local/lib/python3.10/dist-packages (from nebula3-python==3.8.2->camel-ai[all]==0.2.9) (1.0.0)\n",
            "Requirement already satisfied: httplib2>=0.20.0 in /usr/local/lib/python3.10/dist-packages (from nebula3-python==3.8.2->camel-ai[all]==0.2.9) (0.22.0)\n",
            "Requirement already satisfied: pytz>=2021.1 in /usr/local/lib/python3.10/dist-packages (from nebula3-python==3.8.2->camel-ai[all]==0.2.9) (2024.2)\n",
            "Requirement already satisfied: six>=1.16.0 in /usr/local/lib/python3.10/dist-packages (from nebula3-python==3.8.2->camel-ai[all]==0.2.9) (1.16.0)\n",
            "Requirement already satisfied: httpx>=0.22.0 in /usr/local/lib/python3.10/dist-packages (from httpx[http2]>=0.22.0->nebula3-python==3.8.2->camel-ai[all]==0.2.9) (0.27.2)\n",
            "Requirement already satisfied: click in /usr/local/lib/python3.10/dist-packages (from nltk==3.8.1->camel-ai[all]==0.2.9) (8.1.7)\n",
            "Requirement already satisfied: joblib in /usr/local/lib/python3.10/dist-packages (from nltk==3.8.1->camel-ai[all]==0.2.9) (1.4.2)\n",
            "Requirement already satisfied: regex>=2021.8.3 in /usr/local/lib/python3.10/dist-packages (from nltk==3.8.1->camel-ai[all]==0.2.9) (2024.9.11)\n",
            "Requirement already satisfied: tqdm in /usr/local/lib/python3.10/dist-packages (from nltk==3.8.1->camel-ai[all]==0.2.9) (4.66.6)\n",
            "Requirement already satisfied: arrow in /usr/local/lib/python3.10/dist-packages (from scholarly==1.7.11->scholarly[tor]==1.7.11; extra == \"tools\" or extra == \"all\"->camel-ai[all]==0.2.9) (1.3.0)\n",
            "Requirement already satisfied: bibtexparser in /usr/local/lib/python3.10/dist-packages (from scholarly==1.7.11->scholarly[tor]==1.7.11; extra == \"tools\" or extra == \"all\"->camel-ai[all]==0.2.9) (1.4.2)\n",
            "Requirement already satisfied: deprecated in /usr/local/lib/python3.10/dist-packages (from scholarly==1.7.11->scholarly[tor]==1.7.11; extra == \"tools\" or extra == \"all\"->camel-ai[all]==0.2.9) (1.2.15)\n",
            "Requirement already satisfied: fake-useragent in /usr/local/lib/python3.10/dist-packages (from scholarly==1.7.11->scholarly[tor]==1.7.11; extra == \"tools\" or extra == \"all\"->camel-ai[all]==0.2.9) (1.5.1)\n",
            "Requirement already satisfied: free-proxy in /usr/local/lib/python3.10/dist-packages (from scholarly==1.7.11->scholarly[tor]==1.7.11; extra == \"tools\" or extra == \"all\"->camel-ai[all]==0.2.9) (1.1.3)\n",
            "Requirement already satisfied: python-dotenv in /usr/local/lib/python3.10/dist-packages (from scholarly==1.7.11->scholarly[tor]==1.7.11; extra == \"tools\" or extra == \"all\"->camel-ai[all]==0.2.9) (1.0.1)\n",
            "Requirement already satisfied: requests[socks] in /usr/local/lib/python3.10/dist-packages (from scholarly==1.7.11->scholarly[tor]==1.7.11; extra == \"tools\" or extra == \"all\"->camel-ai[all]==0.2.9) (2.32.3)\n",
            "Requirement already satisfied: selenium in /usr/local/lib/python3.10/dist-packages (from scholarly==1.7.11->scholarly[tor]==1.7.11; extra == \"tools\" or extra == \"all\"->camel-ai[all]==0.2.9) (4.27.0)\n",
            "Requirement already satisfied: sphinx-rtd-theme in /usr/local/lib/python3.10/dist-packages (from scholarly==1.7.11->scholarly[tor]==1.7.11; extra == \"tools\" or extra == \"all\"->camel-ai[all]==0.2.9) (3.0.2)\n",
            "Requirement already satisfied: typing-extensions in /usr/local/lib/python3.10/dist-packages (from scholarly==1.7.11->scholarly[tor]==1.7.11; extra == \"tools\" or extra == \"all\"->camel-ai[all]==0.2.9) (4.12.2)\n",
            "Requirement already satisfied: stem in /usr/local/lib/python3.10/dist-packages (from scholarly[tor]==1.7.11; extra == \"tools\" or extra == \"all\"->camel-ai[all]==0.2.9) (1.8.2)\n",
            "Requirement already satisfied: packaging>=20.0 in /usr/local/lib/python3.10/dist-packages (from accelerate<1,>=0->camel-ai[all]==0.2.9) (23.2)\n",
            "Requirement already satisfied: psutil in /usr/local/lib/python3.10/dist-packages (from accelerate<1,>=0->camel-ai[all]==0.2.9) (5.9.8)\n",
            "Requirement already satisfied: pyyaml in /usr/local/lib/python3.10/dist-packages (from accelerate<1,>=0->camel-ai[all]==0.2.9) (6.0.2)\n",
            "Requirement already satisfied: huggingface-hub>=0.21.0 in /usr/local/lib/python3.10/dist-packages (from accelerate<1,>=0->camel-ai[all]==0.2.9) (0.26.2)\n",
            "Requirement already satisfied: safetensors>=0.4.3 in /usr/local/lib/python3.10/dist-packages (from accelerate<1,>=0->camel-ai[all]==0.2.9) (0.4.5)\n",
            "Requirement already satisfied: termcolor>=2.3.0 in /usr/local/lib/python3.10/dist-packages (from agentops<0.4.0,>=0.3.6->camel-ai[all]==0.2.9) (2.5.0)\n",
            "Requirement already satisfied: anyio<5,>=3.5.0 in /usr/local/lib/python3.10/dist-packages (from anthropic<0.30.0,>=0.29.0->camel-ai[all]==0.2.9) (3.7.1)\n",
            "Requirement already satisfied: distro<2,>=1.7.0 in /usr/local/lib/python3.10/dist-packages (from anthropic<0.30.0,>=0.29.0->camel-ai[all]==0.2.9) (1.9.0)\n",
            "Requirement already satisfied: jiter<1,>=0.4.0 in /usr/local/lib/python3.10/dist-packages (from anthropic<0.30.0,>=0.29.0->camel-ai[all]==0.2.9) (0.7.1)\n",
            "Requirement already satisfied: sniffio in /usr/local/lib/python3.10/dist-packages (from anthropic<0.30.0,>=0.29.0->camel-ai[all]==0.2.9) (1.3.1)\n",
            "Requirement already satisfied: tokenizers>=0.13.0 in /usr/local/lib/python3.10/dist-packages (from anthropic<0.30.0,>=0.29.0->camel-ai[all]==0.2.9) (0.20.3)\n",
            "Requirement already satisfied: apify-shared>=1.1.2 in /usr/local/lib/python3.10/dist-packages (from apify_client<2.0.0,>=1.8.1->camel-ai[all]==0.2.9) (1.1.2)\n",
            "Requirement already satisfied: more_itertools>=10.0.0 in /usr/local/lib/python3.10/dist-packages (from apify_client<2.0.0,>=1.8.1->camel-ai[all]==0.2.9) (10.5.0)\n",
            "Requirement already satisfied: feedparser~=6.0.10 in /usr/local/lib/python3.10/dist-packages (from arxiv<3.0.0,>=2.1.3->camel-ai[all]==0.2.9) (6.0.11)\n",
            "Requirement already satisfied: pdfminer-six in /usr/local/lib/python3.10/dist-packages (from arxiv2text<0.2.0,>=0.1.14->camel-ai[all]==0.2.9) (20231228)\n",
            "Requirement already satisfied: scikit-learn in /usr/local/lib/python3.10/dist-packages (from arxiv2text<0.2.0,>=0.1.14->camel-ai[all]==0.2.9) (1.5.2)\n",
            "Requirement already satisfied: PyPDF2 in /usr/local/lib/python3.10/dist-packages (from arxiv2text<0.2.0,>=0.1.14->camel-ai[all]==0.2.9) (3.0.1)\n",
            "Requirement already satisfied: asgiref<4.0.0,>=3.7.2 in /usr/local/lib/python3.10/dist-packages (from asknews<0.8.0,>=0.7.43->camel-ai[all]==0.2.9) (3.8.1)\n",
            "Requirement already satisfied: cryptography<42.0.7,>=40.0.0 in /usr/local/lib/python3.10/dist-packages (from asknews<0.8.0,>=0.7.43->camel-ai[all]==0.2.9) (42.0.6)\n",
            "Requirement already satisfied: orjson<4.0.0,>=3.9.10 in /usr/local/lib/python3.10/dist-packages (from asknews<0.8.0,>=0.7.43->camel-ai[all]==0.2.9) (3.10.11)\n",
            "Requirement already satisfied: azure-core>=1.30.0 in /usr/local/lib/python3.10/dist-packages (from azure-storage-blob<13.0.0,>=12.21.0->camel-ai[all]==0.2.9) (1.32.0)\n",
            "Requirement already satisfied: isodate>=0.6.1 in /usr/local/lib/python3.10/dist-packages (from azure-storage-blob<13.0.0,>=12.21.0->camel-ai[all]==0.2.9) (0.7.2)\n",
            "Requirement already satisfied: soupsieve>1.2 in /usr/local/lib/python3.10/dist-packages (from beautifulsoup4<5,>=4->camel-ai[all]==0.2.9) (2.6)\n",
            "Requirement already satisfied: jmespath<2.0.0,>=0.7.1 in /usr/local/lib/python3.10/dist-packages (from botocore<2.0.0,>=1.35.3->camel-ai[all]==0.2.9) (1.0.1)\n",
            "Requirement already satisfied: python-dateutil<3.0.0,>=2.1 in /usr/local/lib/python3.10/dist-packages (from botocore<2.0.0,>=1.35.3->camel-ai[all]==0.2.9) (2.8.2)\n",
            "Requirement already satisfied: urllib3!=2.2.0,<3,>=1.25.4 in /usr/local/lib/python3.10/dist-packages (from botocore<2.0.0,>=1.35.3->camel-ai[all]==0.2.9) (2.2.3)\n",
            "Requirement already satisfied: aiohttp<4.0,>=3.0 in /usr/local/lib/python3.10/dist-packages (from cohere<5.0,>=4.56->camel-ai[all]==0.2.9) (3.11.2)\n",
            "Requirement already satisfied: backoff<3.0,>=2.0 in /usr/local/lib/python3.10/dist-packages (from cohere<5.0,>=4.56->camel-ai[all]==0.2.9) (2.2.1)\n",
            "Requirement already satisfied: fastavro<2.0,>=1.8 in /usr/local/lib/python3.10/dist-packages (from cohere<5.0,>=4.56->camel-ai[all]==0.2.9) (1.9.7)\n",
            "Requirement already satisfied: importlib_metadata<7.0,>=6.0 in /usr/local/lib/python3.10/dist-packages (from cohere<5.0,>=4.56->camel-ai[all]==0.2.9) (6.11.0)\n",
            "Requirement already satisfied: pandas in /usr/local/lib/python3.10/dist-packages (from datacommons_pandas<0.0.4,>=0.0.3->camel-ai[all]==0.2.9) (2.2.2)\n",
            "Requirement already satisfied: filelock in /usr/local/lib/python3.10/dist-packages (from datasets<3,>=2->camel-ai[all]==0.2.9) (3.16.1)\n",
            "Requirement already satisfied: pyarrow>=15.0.0 in /usr/local/lib/python3.10/dist-packages (from datasets<3,>=2->camel-ai[all]==0.2.9) (17.0.0)\n",
            "Requirement already satisfied: dill<0.3.9,>=0.3.0 in /usr/local/lib/python3.10/dist-packages (from datasets<3,>=2->camel-ai[all]==0.2.9) (0.3.8)\n",
            "Requirement already satisfied: xxhash in /usr/local/lib/python3.10/dist-packages (from datasets<3,>=2->camel-ai[all]==0.2.9) (3.5.0)\n",
            "Requirement already satisfied: multiprocess in /usr/local/lib/python3.10/dist-packages (from datasets<3,>=2->camel-ai[all]==0.2.9) (0.70.16)\n",
            "Requirement already satisfied: fsspec<=2024.6.1,>=2023.1.0 in /usr/local/lib/python3.10/dist-packages (from fsspec[http]<=2024.6.1,>=2023.1.0->datasets<3,>=2->camel-ai[all]==0.2.9) (2024.6.1)\n",
            "Requirement already satisfied: primp>=0.8.0 in /usr/local/lib/python3.10/dist-packages (from duckduckgo-search<7.0.0,>=6.2.12->camel-ai[all]==0.2.9) (0.8.1)\n",
            "Requirement already satisfied: websockets in /usr/local/lib/python3.10/dist-packages (from firecrawl-py<2.0.0,>=1.0.0->camel-ai[all]==0.2.9) (14.1)\n",
            "Requirement already satisfied: nest-asyncio in /usr/local/lib/python3.10/dist-packages (from firecrawl-py<2.0.0,>=1.0.0->camel-ai[all]==0.2.9) (1.6.0)\n",
            "Requirement already satisfied: google-auth<3.0dev,>=2.26.1 in /usr/local/lib/python3.10/dist-packages (from google-cloud-storage<3.0.0,>=2.18.0->camel-ai[all]==0.2.9) (2.27.0)\n",
            "Requirement already satisfied: google-api-core<3.0.0dev,>=2.15.0 in /usr/local/lib/python3.10/dist-packages (from google-cloud-storage<3.0.0,>=2.18.0->camel-ai[all]==0.2.9) (2.19.2)\n",
            "Requirement already satisfied: google-cloud-core<3.0dev,>=2.3.0 in /usr/local/lib/python3.10/dist-packages (from google-cloud-storage<3.0.0,>=2.18.0->camel-ai[all]==0.2.9) (2.4.1)\n",
            "Requirement already satisfied: google-resumable-media>=2.7.2 in /usr/local/lib/python3.10/dist-packages (from google-cloud-storage<3.0.0,>=2.18.0->camel-ai[all]==0.2.9) (2.7.2)\n",
            "Requirement already satisfied: google-crc32c<2.0dev,>=1.0 in /usr/local/lib/python3.10/dist-packages (from google-cloud-storage<3.0.0,>=2.18.0->camel-ai[all]==0.2.9) (1.6.0)\n",
            "Requirement already satisfied: google-ai-generativelanguage==0.6.4 in /usr/local/lib/python3.10/dist-packages (from google-generativeai<0.7.0,>=0.6.0->camel-ai[all]==0.2.9) (0.6.4)\n",
            "Requirement already satisfied: google-api-python-client in /usr/local/lib/python3.10/dist-packages (from google-generativeai<0.7.0,>=0.6.0->camel-ai[all]==0.2.9) (2.151.0)\n",
            "Requirement already satisfied: proto-plus<2.0.0dev,>=1.22.3 in /usr/local/lib/python3.10/dist-packages (from google-ai-generativelanguage==0.6.4->google-generativeai<0.7.0,>=0.6.0->camel-ai[all]==0.2.9) (1.25.0)\n",
            "Requirement already satisfied: av in /usr/local/lib/python3.10/dist-packages (from imageio[pyav]<3.0.0,>=2.34.2; extra == \"tools\" or extra == \"all\"->camel-ai[all]==0.2.9) (13.1.0)\n",
            "Requirement already satisfied: comm>=0.1.1 in /usr/local/lib/python3.10/dist-packages (from ipykernel<7.0.0,>=6.0.0->camel-ai[all]==0.2.9) (0.2.2)\n",
            "Requirement already satisfied: debugpy>=1.6.5 in /usr/local/lib/python3.10/dist-packages (from ipykernel<7.0.0,>=6.0.0->camel-ai[all]==0.2.9) (1.8.0)\n",
            "Requirement already satisfied: ipython>=7.23.1 in /usr/local/lib/python3.10/dist-packages (from ipykernel<7.0.0,>=6.0.0->camel-ai[all]==0.2.9) (7.34.0)\n",
            "Requirement already satisfied: jupyter-core!=5.0.*,>=4.12 in /usr/local/lib/python3.10/dist-packages (from ipykernel<7.0.0,>=6.0.0->camel-ai[all]==0.2.9) (5.7.2)\n",
            "Requirement already satisfied: matplotlib-inline>=0.1 in /usr/local/lib/python3.10/dist-packages (from ipykernel<7.0.0,>=6.0.0->camel-ai[all]==0.2.9) (0.1.7)\n",
            "Requirement already satisfied: pyzmq>=24 in /usr/local/lib/python3.10/dist-packages (from ipykernel<7.0.0,>=6.0.0->camel-ai[all]==0.2.9) (24.0.1)\n",
            "Requirement already satisfied: tornado>=6.1 in /usr/local/lib/python3.10/dist-packages (from ipykernel<7.0.0,>=6.0.0->camel-ai[all]==0.2.9) (6.3.3)\n",
            "Requirement already satisfied: traitlets>=5.4.0 in /usr/local/lib/python3.10/dist-packages (from ipykernel<7.0.0,>=6.0.0->camel-ai[all]==0.2.9) (5.7.1)\n",
            "Requirement already satisfied: attrs>=22.2.0 in /usr/local/lib/python3.10/dist-packages (from jsonschema<5,>=4->camel-ai==0.2.9->camel-ai[all]==0.2.9) (24.2.0)\n",
            "Requirement already satisfied: jsonschema-specifications>=2023.03.6 in /usr/local/lib/python3.10/dist-packages (from jsonschema<5,>=4->camel-ai==0.2.9->camel-ai[all]==0.2.9) (2023.12.1)\n",
            "Requirement already satisfied: referencing>=0.28.4 in /usr/local/lib/python3.10/dist-packages (from jsonschema<5,>=4->camel-ai==0.2.9->camel-ai[all]==0.2.9) (0.35.1)\n",
            "Requirement already satisfied: rpds-py>=0.7.1 in /usr/local/lib/python3.10/dist-packages (from jsonschema<5,>=4->camel-ai==0.2.9->camel-ai[all]==0.2.9) (0.21.0)\n",
            "Requirement already satisfied: jinja2<4.0.0,>=3.1.2 in /usr/local/lib/python3.10/dist-packages (from litellm<2.0.0,>=1.38.1->camel-ai[all]==0.2.9) (3.1.4)\n",
            "Requirement already satisfied: jsonpath-python<2.0.0,>=1.0.6 in /usr/local/lib/python3.10/dist-packages (from mistralai<2.0.0,>=1.1.0->camel-ai[all]==0.2.9) (1.0.6)\n",
            "Requirement already satisfied: typing-inspect<0.10.0,>=0.9.0 in /usr/local/lib/python3.10/dist-packages (from mistralai<2.0.0,>=1.1.0->camel-ai[all]==0.2.9) (0.9.0)\n",
            "Requirement already satisfied: cssselect>=0.9.2 in /usr/local/lib/python3.10/dist-packages (from newspaper3k<0.3.0,>=0.2.8->camel-ai[all]==0.2.9) (1.2.0)\n",
            "Requirement already satisfied: lxml>=3.6.0 in /usr/local/lib/python3.10/dist-packages (from newspaper3k<0.3.0,>=0.2.8->camel-ai[all]==0.2.9) (5.3.0)\n",
            "Requirement already satisfied: tldextract>=2.0.1 in /usr/local/lib/python3.10/dist-packages (from newspaper3k<0.3.0,>=0.2.8->camel-ai[all]==0.2.9) (5.1.3)\n",
            "Requirement already satisfied: feedfinder2>=0.0.4 in /usr/local/lib/python3.10/dist-packages (from newspaper3k<0.3.0,>=0.2.8->camel-ai[all]==0.2.9) (0.0.4)\n",
            "Requirement already satisfied: jieba3k>=0.35.1 in /usr/local/lib/python3.10/dist-packages (from newspaper3k<0.3.0,>=0.2.8->camel-ai[all]==0.2.9) (0.35.1)\n",
            "Requirement already satisfied: tinysegmenter==0.3 in /usr/local/lib/python3.10/dist-packages (from newspaper3k<0.3.0,>=0.2.8->camel-ai[all]==0.2.9) (0.3)\n",
            "Requirement already satisfied: jsonschema-path<0.4.0,>=0.3.1 in /usr/local/lib/python3.10/dist-packages (from openapi-spec-validator<0.8.0,>=0.7.1->camel-ai[all]==0.2.9) (0.3.3)\n",
            "Requirement already satisfied: lazy-object-proxy<2.0.0,>=1.7.1 in /usr/local/lib/python3.10/dist-packages (from openapi-spec-validator<0.8.0,>=0.7.1->camel-ai[all]==0.2.9) (1.10.0)\n",
            "Requirement already satisfied: openapi-schema-validator<0.7.0,>=0.6.0 in /usr/local/lib/python3.10/dist-packages (from openapi-spec-validator<0.8.0,>=0.7.1->camel-ai[all]==0.2.9) (0.6.2)\n",
            "Requirement already satisfied: pypdfium2>=4.18.0 in /usr/local/lib/python3.10/dist-packages (from pdfplumber<0.12.0,>=0.11.0->camel-ai[all]==0.2.9) (4.30.0)\n",
            "Requirement already satisfied: charset-normalizer>=2.0.0 in /usr/local/lib/python3.10/dist-packages (from pdfminer-six->arxiv2text<0.2.0,>=0.1.14->camel-ai[all]==0.2.9) (3.4.0)\n",
            "Requirement already satisfied: chardet>=3.0 in /usr/local/lib/python3.10/dist-packages (from prance<24.0.0.0,>=23.6.21.0->camel-ai[all]==0.2.9) (5.2.0)\n",
            "Requirement already satisfied: ruamel.yaml>=0.17.10 in /usr/local/lib/python3.10/dist-packages (from prance<24.0.0.0,>=23.6.21.0->camel-ai[all]==0.2.9) (0.18.6)\n",
            "Requirement already satisfied: prawcore<3,>=2.4 in /usr/local/lib/python3.10/dist-packages (from praw<8.0.0,>=7.7.1->camel-ai[all]==0.2.9) (2.4.0)\n",
            "Requirement already satisfied: update_checker>=0.18 in /usr/local/lib/python3.10/dist-packages (from praw<8.0.0,>=7.7.1->camel-ai[all]==0.2.9) (0.18.0)\n",
            "Requirement already satisfied: websocket-client>=0.54.0 in /usr/local/lib/python3.10/dist-packages (from praw<8.0.0,>=7.7.1->camel-ai[all]==0.2.9) (1.8.0)\n",
            "Requirement already satisfied: annotated-types>=0.6.0 in /usr/local/lib/python3.10/dist-packages (from pydantic<3,>=1.9->camel-ai==0.2.9->camel-ai[all]==0.2.9) (0.7.0)\n",
            "Requirement already satisfied: pydantic-core==2.23.4 in /usr/local/lib/python3.10/dist-packages (from pydantic<3,>=1.9->camel-ai==0.2.9->camel-ai[all]==0.2.9) (2.23.4)\n",
            "Requirement already satisfied: pynacl>=1.4.0 in /usr/local/lib/python3.10/dist-packages (from pygithub<3.0.0,>=2.3.0->camel-ai[all]==0.2.9) (1.5.0)\n",
            "Requirement already satisfied: pyjwt>=2.4.0 in /usr/local/lib/python3.10/dist-packages (from pyjwt[crypto]>=2.4.0->pygithub<3.0.0,>=2.3.0->camel-ai[all]==0.2.9) (2.10.0)\n",
            "Requirement already satisfied: setuptools>69 in /usr/local/lib/python3.10/dist-packages (from pymilvus<3.0.0,>=2.4.0->camel-ai[all]==0.2.9) (75.1.0)\n",
            "Requirement already satisfied: grpcio<=1.67.1,>=1.49.1 in /usr/local/lib/python3.10/dist-packages (from pymilvus<3.0.0,>=2.4.0->camel-ai[all]==0.2.9) (1.67.1)\n",
            "Requirement already satisfied: ujson>=2.0.0 in /usr/local/lib/python3.10/dist-packages (from pymilvus<3.0.0,>=2.4.0->camel-ai[all]==0.2.9) (5.10.0)\n",
            "Requirement already satisfied: milvus-lite>=2.4.0 in /usr/local/lib/python3.10/dist-packages (from pymilvus<3.0.0,>=2.4.0->camel-ai[all]==0.2.9) (2.4.10)\n",
            "Requirement already satisfied: geojson<3,>=2.3.0 in /usr/local/lib/python3.10/dist-packages (from pyowm<4.0.0,>=3.3.0->camel-ai[all]==0.2.9) (2.5.0)\n",
            "Requirement already satisfied: PySocks<2,>=1.7.1 in /usr/local/lib/python3.10/dist-packages (from pyowm<4.0.0,>=3.3.0->camel-ai[all]==0.2.9) (1.7.1)\n",
            "Requirement already satisfied: grpcio-tools>=1.41.0 in /usr/local/lib/python3.10/dist-packages (from qdrant-client<2.0.0,>=1.9.0->camel-ai[all]==0.2.9) (1.62.3)\n",
            "Requirement already satisfied: portalocker<3.0.0,>=2.7.0 in /usr/local/lib/python3.10/dist-packages (from qdrant-client<2.0.0,>=1.9.0->camel-ai[all]==0.2.9) (2.10.1)\n",
            "Requirement already satisfied: async-timeout>=4.0.3 in /usr/local/lib/python3.10/dist-packages (from redis<6.0.0,>=5.0.6->camel-ai[all]==0.2.9) (4.0.3)\n",
            "Requirement already satisfied: httpx-sse==0.4.0 in /usr/local/lib/python3.10/dist-packages (from reka-api<4.0.0,>=3.0.8->camel-ai[all]==0.2.9) (0.4.0)\n",
            "Requirement already satisfied: idna>=3.7 in /usr/local/lib/python3.10/dist-packages (from reka-api<4.0.0,>=3.0.8->camel-ai[all]==0.2.9) (3.10)\n",
            "Requirement already satisfied: oauthlib>=3.0.0 in /usr/local/lib/python3.10/dist-packages (from requests_oauthlib<2.0.0,>=1.3.1->camel-ai[all]==0.2.9) (3.2.2)\n",
            "Requirement already satisfied: scipy in /usr/local/lib/python3.10/dist-packages (from sentence-transformers<4.0.0,>=3.0.1->camel-ai[all]==0.2.9) (1.13.1)\n",
            "Requirement already satisfied: networkx in /usr/local/lib/python3.10/dist-packages (from torch<3,>=2->camel-ai[all]==0.2.9) (3.4.2)\n",
            "Requirement already satisfied: sympy==1.13.1 in /usr/local/lib/python3.10/dist-packages (from torch<3,>=2->camel-ai[all]==0.2.9) (1.13.1)\n",
            "Requirement already satisfied: mpmath<1.4,>=1.1.0 in /usr/local/lib/python3.10/dist-packages (from sympy==1.13.1->torch<3,>=2->camel-ai[all]==0.2.9) (1.3.0)\n",
            "Requirement already satisfied: filetype in /usr/local/lib/python3.10/dist-packages (from unstructured<0.15,>=0.14->unstructured[all-docs]<0.15,>=0.14; extra == \"rag\" or extra == \"tools\" or extra == \"all\"->camel-ai[all]==0.2.9) (1.2.0)\n",
            "Requirement already satisfied: python-magic in /usr/local/lib/python3.10/dist-packages (from unstructured<0.15,>=0.14->unstructured[all-docs]<0.15,>=0.14; extra == \"rag\" or extra == \"tools\" or extra == \"all\"->camel-ai[all]==0.2.9) (0.4.27)\n",
            "Requirement already satisfied: tabulate in /usr/local/lib/python3.10/dist-packages (from unstructured<0.15,>=0.14->unstructured[all-docs]<0.15,>=0.14; extra == \"rag\" or extra == \"tools\" or extra == \"all\"->camel-ai[all]==0.2.9) (0.9.0)\n",
            "Requirement already satisfied: emoji in /usr/local/lib/python3.10/dist-packages (from unstructured<0.15,>=0.14->unstructured[all-docs]<0.15,>=0.14; extra == \"rag\" or extra == \"tools\" or extra == \"all\"->camel-ai[all]==0.2.9) (2.14.0)\n",
            "Requirement already satisfied: dataclasses-json in /usr/local/lib/python3.10/dist-packages (from unstructured<0.15,>=0.14->unstructured[all-docs]<0.15,>=0.14; extra == \"rag\" or extra == \"tools\" or extra == \"all\"->camel-ai[all]==0.2.9) (0.6.7)\n",
            "Requirement already satisfied: python-iso639 in /usr/local/lib/python3.10/dist-packages (from unstructured<0.15,>=0.14->unstructured[all-docs]<0.15,>=0.14; extra == \"rag\" or extra == \"tools\" or extra == \"all\"->camel-ai[all]==0.2.9) (2024.10.22)\n",
            "Requirement already satisfied: langdetect in /usr/local/lib/python3.10/dist-packages (from unstructured<0.15,>=0.14->unstructured[all-docs]<0.15,>=0.14; extra == \"rag\" or extra == \"tools\" or extra == \"all\"->camel-ai[all]==0.2.9) (1.0.9)\n",
            "Requirement already satisfied: rapidfuzz in /usr/local/lib/python3.10/dist-packages (from unstructured<0.15,>=0.14->unstructured[all-docs]<0.15,>=0.14; extra == \"rag\" or extra == \"tools\" or extra == \"all\"->camel-ai[all]==0.2.9) (3.10.1)\n",
            "Requirement already satisfied: unstructured-client in /usr/local/lib/python3.10/dist-packages (from unstructured<0.15,>=0.14->unstructured[all-docs]<0.15,>=0.14; extra == \"rag\" or extra == \"tools\" or extra == \"all\"->camel-ai[all]==0.2.9) (0.28.0)\n",
            "Requirement already satisfied: wrapt in /usr/local/lib/python3.10/dist-packages (from unstructured<0.15,>=0.14->unstructured[all-docs]<0.15,>=0.14; extra == \"rag\" or extra == \"tools\" or extra == \"all\"->camel-ai[all]==0.2.9) (1.16.0)\n",
            "Requirement already satisfied: pillow-heif in /usr/local/lib/python3.10/dist-packages (from unstructured[all-docs]<0.15,>=0.14; extra == \"rag\" or extra == \"tools\" or extra == \"all\"->camel-ai[all]==0.2.9) (0.20.0)\n",
            "Requirement already satisfied: pypandoc in /usr/local/lib/python3.10/dist-packages (from unstructured[all-docs]<0.15,>=0.14; extra == \"rag\" or extra == \"tools\" or extra == \"all\"->camel-ai[all]==0.2.9) (1.14)\n",
            "Requirement already satisfied: pdf2image in /usr/local/lib/python3.10/dist-packages (from unstructured[all-docs]<0.15,>=0.14; extra == \"rag\" or extra == \"tools\" or extra == \"all\"->camel-ai[all]==0.2.9) (1.17.0)\n",
            "Requirement already satisfied: unstructured.pytesseract>=0.3.12 in /usr/local/lib/python3.10/dist-packages (from unstructured[all-docs]<0.15,>=0.14; extra == \"rag\" or extra == \"tools\" or extra == \"all\"->camel-ai[all]==0.2.9) (0.3.13)\n",
            "Requirement already satisfied: python-oxmsg in /usr/local/lib/python3.10/dist-packages (from unstructured[all-docs]<0.15,>=0.14; extra == \"rag\" or extra == \"tools\" or extra == \"all\"->camel-ai[all]==0.2.9) (0.0.1)\n",
            "Requirement already satisfied: pikepdf in /usr/local/lib/python3.10/dist-packages (from unstructured[all-docs]<0.15,>=0.14; extra == \"rag\" or extra == \"tools\" or extra == \"all\"->camel-ai[all]==0.2.9) (9.4.2)\n",
            "Requirement already satisfied: effdet in /usr/local/lib/python3.10/dist-packages (from unstructured[all-docs]<0.15,>=0.14; extra == \"rag\" or extra == \"tools\" or extra == \"all\"->camel-ai[all]==0.2.9) (0.4.1)\n",
            "Requirement already satisfied: google-cloud-vision in /usr/local/lib/python3.10/dist-packages (from unstructured[all-docs]<0.15,>=0.14; extra == \"rag\" or extra == \"tools\" or extra == \"all\"->camel-ai[all]==0.2.9) (3.8.1)\n",
            "Requirement already satisfied: pypdf in /usr/local/lib/python3.10/dist-packages (from unstructured[all-docs]<0.15,>=0.14; extra == \"rag\" or extra == \"tools\" or extra == \"all\"->camel-ai[all]==0.2.9) (5.1.0)\n",
            "Requirement already satisfied: openpyxl in /usr/local/lib/python3.10/dist-packages (from unstructured[all-docs]<0.15,>=0.14; extra == \"rag\" or extra == \"tools\" or extra == \"all\"->camel-ai[all]==0.2.9) (3.1.5)\n",
            "Requirement already satisfied: unstructured-inference==0.7.36 in /usr/local/lib/python3.10/dist-packages (from unstructured[all-docs]<0.15,>=0.14; extra == \"rag\" or extra == \"tools\" or extra == \"all\"->camel-ai[all]==0.2.9) (0.7.36)\n",
            "Requirement already satisfied: onnx in /usr/local/lib/python3.10/dist-packages (from unstructured[all-docs]<0.15,>=0.14; extra == \"rag\" or extra == \"tools\" or extra == \"all\"->camel-ai[all]==0.2.9) (1.17.0)\n",
            "Requirement already satisfied: pytesseract in /usr/local/lib/python3.10/dist-packages (from unstructured[all-docs]<0.15,>=0.14; extra == \"rag\" or extra == \"tools\" or extra == \"all\"->camel-ai[all]==0.2.9) (0.3.13)\n",
            "Requirement already satisfied: markdown in /usr/local/lib/python3.10/dist-packages (from unstructured[all-docs]<0.15,>=0.14; extra == \"rag\" or extra == \"tools\" or extra == \"all\"->camel-ai[all]==0.2.9) (3.7)\n",
            "Requirement already satisfied: python-docx>=1.1.2 in /usr/local/lib/python3.10/dist-packages (from unstructured[all-docs]<0.15,>=0.14; extra == \"rag\" or extra == \"tools\" or extra == \"all\"->camel-ai[all]==0.2.9) (1.1.2)\n",
            "Requirement already satisfied: python-pptx<=0.6.23 in /usr/local/lib/python3.10/dist-packages (from unstructured[all-docs]<0.15,>=0.14; extra == \"rag\" or extra == \"tools\" or extra == \"all\"->camel-ai[all]==0.2.9) (0.6.23)\n",
            "Requirement already satisfied: xlrd in /usr/local/lib/python3.10/dist-packages (from unstructured[all-docs]<0.15,>=0.14; extra == \"rag\" or extra == \"tools\" or extra == \"all\"->camel-ai[all]==0.2.9) (2.0.1)\n",
            "Requirement already satisfied: layoutparser in /usr/local/lib/python3.10/dist-packages (from unstructured-inference==0.7.36->unstructured[all-docs]<0.15,>=0.14; extra == \"rag\" or extra == \"tools\" or extra == \"all\"->camel-ai[all]==0.2.9) (0.3.4)\n",
            "Requirement already satisfied: python-multipart in /usr/local/lib/python3.10/dist-packages (from unstructured-inference==0.7.36->unstructured[all-docs]<0.15,>=0.14; extra == \"rag\" or extra == \"tools\" or extra == \"all\"->camel-ai[all]==0.2.9) (0.0.17)\n",
            "Requirement already satisfied: onnxruntime>=1.17.0 in /usr/local/lib/python3.10/dist-packages (from unstructured-inference==0.7.36->unstructured[all-docs]<0.15,>=0.14; extra == \"rag\" or extra == \"tools\" or extra == \"all\"->camel-ai[all]==0.2.9) (1.20.1)\n",
            "Requirement already satisfied: matplotlib in /usr/local/lib/python3.10/dist-packages (from unstructured-inference==0.7.36->unstructured[all-docs]<0.15,>=0.14; extra == \"rag\" or extra == \"tools\" or extra == \"all\"->camel-ai[all]==0.2.9) (3.8.0)\n",
            "Requirement already satisfied: timm in /usr/local/lib/python3.10/dist-packages (from unstructured-inference==0.7.36->unstructured[all-docs]<0.15,>=0.14; extra == \"rag\" or extra == \"tools\" or extra == \"all\"->camel-ai[all]==0.2.9) (1.0.11)\n",
            "Requirement already satisfied: xmltodict in /usr/local/lib/python3.10/dist-packages (from wolframalpha<6.0.0,>=5.0.0->camel-ai[all]==0.2.9) (0.14.2)\n",
            "Requirement already satisfied: jaraco.context in /usr/local/lib/python3.10/dist-packages (from wolframalpha<6.0.0,>=5.0.0->camel-ai[all]==0.2.9) (6.0.1)\n",
            "Requirement already satisfied: multidict in /usr/local/lib/python3.10/dist-packages (from wolframalpha<6.0.0,>=5.0.0->camel-ai[all]==0.2.9) (6.1.0)\n",
            "Requirement already satisfied: plumbum in /usr/local/lib/python3.10/dist-packages (from pandoc->camel-ai==0.2.9->camel-ai[all]==0.2.9) (1.9.0)\n",
            "Requirement already satisfied: ply in /usr/local/lib/python3.10/dist-packages (from pandoc->camel-ai==0.2.9->camel-ai[all]==0.2.9) (3.11)\n",
            "Requirement already satisfied: aiohappyeyeballs>=2.3.0 in /usr/local/lib/python3.10/dist-packages (from aiohttp<4.0,>=3.0->cohere<5.0,>=4.56->camel-ai[all]==0.2.9) (2.4.3)\n",
            "Requirement already satisfied: aiosignal>=1.1.2 in /usr/local/lib/python3.10/dist-packages (from aiohttp<4.0,>=3.0->cohere<5.0,>=4.56->camel-ai[all]==0.2.9) (1.3.1)\n",
            "Requirement already satisfied: frozenlist>=1.1.1 in /usr/local/lib/python3.10/dist-packages (from aiohttp<4.0,>=3.0->cohere<5.0,>=4.56->camel-ai[all]==0.2.9) (1.5.0)\n",
            "Requirement already satisfied: propcache>=0.2.0 in /usr/local/lib/python3.10/dist-packages (from aiohttp<4.0,>=3.0->cohere<5.0,>=4.56->camel-ai[all]==0.2.9) (0.2.0)\n",
            "Requirement already satisfied: yarl<2.0,>=1.17.0 in /usr/local/lib/python3.10/dist-packages (from aiohttp<4.0,>=3.0->cohere<5.0,>=4.56->camel-ai[all]==0.2.9) (1.17.2)\n",
            "Requirement already satisfied: exceptiongroup in /usr/local/lib/python3.10/dist-packages (from anyio<5,>=3.5.0->anthropic<0.30.0,>=0.29.0->camel-ai[all]==0.2.9) (1.2.2)\n",
            "Requirement already satisfied: pycparser in /usr/local/lib/python3.10/dist-packages (from cffi>=1.12.0->curl_cffi==0.6.2->camel-ai==0.2.9->camel-ai[all]==0.2.9) (2.22)\n",
            "Requirement already satisfied: sgmllib3k in /usr/local/lib/python3.10/dist-packages (from feedparser~=6.0.10->arxiv<3.0.0,>=2.1.3->camel-ai[all]==0.2.9) (1.0.0)\n",
            "Requirement already satisfied: googleapis-common-protos<2.0.dev0,>=1.56.2 in /usr/local/lib/python3.10/dist-packages (from google-api-core<3.0.0dev,>=2.15.0->google-cloud-storage<3.0.0,>=2.18.0->camel-ai[all]==0.2.9) (1.66.0)\n",
            "Requirement already satisfied: cachetools<6.0,>=2.0.0 in /usr/local/lib/python3.10/dist-packages (from google-auth<3.0dev,>=2.26.1->google-cloud-storage<3.0.0,>=2.18.0->camel-ai[all]==0.2.9) (5.5.0)\n",
            "Requirement already satisfied: pyasn1-modules>=0.2.1 in /usr/local/lib/python3.10/dist-packages (from google-auth<3.0dev,>=2.26.1->google-cloud-storage<3.0.0,>=2.18.0->camel-ai[all]==0.2.9) (0.4.1)\n",
            "Requirement already satisfied: rsa<5,>=3.1.4 in /usr/local/lib/python3.10/dist-packages (from google-auth<3.0dev,>=2.26.1->google-cloud-storage<3.0.0,>=2.18.0->camel-ai[all]==0.2.9) (4.9)\n",
            "Requirement already satisfied: pyparsing!=3.0.0,!=3.0.1,!=3.0.2,!=3.0.3,<4,>=2.4.2 in /usr/local/lib/python3.10/dist-packages (from httplib2>=0.20.0->nebula3-python==3.8.2->camel-ai[all]==0.2.9) (3.2.0)\n",
            "Requirement already satisfied: httpcore==1.* in /usr/local/lib/python3.10/dist-packages (from httpx>=0.22.0->httpx[http2]>=0.22.0->nebula3-python==3.8.2->camel-ai[all]==0.2.9) (1.0.7)\n",
            "Requirement already satisfied: h11<0.15,>=0.13 in /usr/local/lib/python3.10/dist-packages (from httpcore==1.*->httpx>=0.22.0->httpx[http2]>=0.22.0->nebula3-python==3.8.2->camel-ai[all]==0.2.9) (0.14.0)\n",
            "Requirement already satisfied: h2<5,>=3 in /usr/local/lib/python3.10/dist-packages (from httpx[http2]>=0.22.0->nebula3-python==3.8.2->camel-ai[all]==0.2.9) (4.1.0)\n",
            "Requirement already satisfied: zipp>=0.5 in /usr/local/lib/python3.10/dist-packages (from importlib_metadata<7.0,>=6.0->cohere<5.0,>=4.56->camel-ai[all]==0.2.9) (3.21.0)\n",
            "Requirement already satisfied: jedi>=0.16 in /usr/local/lib/python3.10/dist-packages (from ipython>=7.23.1->ipykernel<7.0.0,>=6.0.0->camel-ai[all]==0.2.9) (0.19.2)\n",
            "Requirement already satisfied: decorator in /usr/local/lib/python3.10/dist-packages (from ipython>=7.23.1->ipykernel<7.0.0,>=6.0.0->camel-ai[all]==0.2.9) (4.4.2)\n",
            "Requirement already satisfied: pickleshare in /usr/local/lib/python3.10/dist-packages (from ipython>=7.23.1->ipykernel<7.0.0,>=6.0.0->camel-ai[all]==0.2.9) (0.7.5)\n",
            "Requirement already satisfied: prompt-toolkit!=3.0.0,!=3.0.1,<3.1.0,>=2.0.0 in /usr/local/lib/python3.10/dist-packages (from ipython>=7.23.1->ipykernel<7.0.0,>=6.0.0->camel-ai[all]==0.2.9) (3.0.48)\n",
            "Requirement already satisfied: pygments in /usr/local/lib/python3.10/dist-packages (from ipython>=7.23.1->ipykernel<7.0.0,>=6.0.0->camel-ai[all]==0.2.9) (2.18.0)\n",
            "Requirement already satisfied: backcall in /usr/local/lib/python3.10/dist-packages (from ipython>=7.23.1->ipykernel<7.0.0,>=6.0.0->camel-ai[all]==0.2.9) (0.2.0)\n",
            "Requirement already satisfied: pexpect>4.3 in /usr/local/lib/python3.10/dist-packages (from ipython>=7.23.1->ipykernel<7.0.0,>=6.0.0->camel-ai[all]==0.2.9) (4.9.0)\n",
            "Requirement already satisfied: MarkupSafe>=2.0 in /usr/local/lib/python3.10/dist-packages (from jinja2<4.0.0,>=3.1.2->litellm<2.0.0,>=1.38.1->camel-ai[all]==0.2.9) (3.0.2)\n",
            "Requirement already satisfied: pathable<0.5.0,>=0.4.1 in /usr/local/lib/python3.10/dist-packages (from jsonschema-path<0.4.0,>=0.3.1->openapi-spec-validator<0.8.0,>=0.7.1->camel-ai[all]==0.2.9) (0.4.3)\n",
            "Requirement already satisfied: platformdirs>=2.5 in /usr/local/lib/python3.10/dist-packages (from jupyter-core!=5.0.*,>=4.12->ipykernel<7.0.0,>=6.0.0->camel-ai[all]==0.2.9) (4.3.6)\n",
            "Requirement already satisfied: rfc3339-validator in /usr/local/lib/python3.10/dist-packages (from openapi-schema-validator<0.7.0,>=0.6.0->openapi-spec-validator<0.8.0,>=0.7.1->camel-ai[all]==0.2.9) (0.1.4)\n",
            "Requirement already satisfied: tzdata>=2022.7 in /usr/local/lib/python3.10/dist-packages (from pandas->datacommons_pandas<0.0.4,>=0.0.3->camel-ai[all]==0.2.9) (2024.2)\n",
            "Requirement already satisfied: XlsxWriter>=0.5.7 in /usr/local/lib/python3.10/dist-packages (from python-pptx<=0.6.23->unstructured[all-docs]<0.15,>=0.14; extra == \"rag\" or extra == \"tools\" or extra == \"all\"->camel-ai[all]==0.2.9) (3.2.0)\n",
            "Requirement already satisfied: ruamel.yaml.clib>=0.2.7 in /usr/local/lib/python3.10/dist-packages (from ruamel.yaml>=0.17.10->prance<24.0.0.0,>=23.6.21.0->camel-ai[all]==0.2.9) (0.2.12)\n",
            "Requirement already satisfied: requests-file>=1.4 in /usr/local/lib/python3.10/dist-packages (from tldextract>=2.0.1->newspaper3k<0.3.0,>=0.2.8->camel-ai[all]==0.2.9) (2.1.0)\n",
            "Requirement already satisfied: mypy-extensions>=0.3.0 in /usr/local/lib/python3.10/dist-packages (from typing-inspect<0.10.0,>=0.9.0->mistralai<2.0.0,>=1.1.0->camel-ai[all]==0.2.9) (1.0.0)\n",
            "Requirement already satisfied: types-python-dateutil>=2.8.10 in /usr/local/lib/python3.10/dist-packages (from arrow->scholarly==1.7.11->scholarly[tor]==1.7.11; extra == \"tools\" or extra == \"all\"->camel-ai[all]==0.2.9) (2.9.0.20241003)\n",
            "Requirement already satisfied: marshmallow<4.0.0,>=3.18.0 in /usr/local/lib/python3.10/dist-packages (from dataclasses-json->unstructured<0.15,>=0.14->unstructured[all-docs]<0.15,>=0.14; extra == \"rag\" or extra == \"tools\" or extra == \"all\"->camel-ai[all]==0.2.9) (3.23.1)\n",
            "Requirement already satisfied: torchvision in /usr/local/lib/python3.10/dist-packages (from effdet->unstructured[all-docs]<0.15,>=0.14; extra == \"rag\" or extra == \"tools\" or extra == \"all\"->camel-ai[all]==0.2.9) (0.20.1+cu121)\n",
            "Requirement already satisfied: pycocotools>=2.0.2 in /usr/local/lib/python3.10/dist-packages (from effdet->unstructured[all-docs]<0.15,>=0.14; extra == \"rag\" or extra == \"tools\" or extra == \"all\"->camel-ai[all]==0.2.9) (2.0.8)\n",
            "Requirement already satisfied: omegaconf>=2.0 in /usr/local/lib/python3.10/dist-packages (from effdet->unstructured[all-docs]<0.15,>=0.14; extra == \"rag\" or extra == \"tools\" or extra == \"all\"->camel-ai[all]==0.2.9) (2.3.0)\n",
            "Requirement already satisfied: google-auth-httplib2<1.0.0,>=0.2.0 in /usr/local/lib/python3.10/dist-packages (from google-api-python-client->google-generativeai<0.7.0,>=0.6.0->camel-ai[all]==0.2.9) (0.2.0)\n",
            "Requirement already satisfied: uritemplate<5,>=3.0.1 in /usr/local/lib/python3.10/dist-packages (from google-api-python-client->google-generativeai<0.7.0,>=0.6.0->camel-ai[all]==0.2.9) (4.1.1)\n",
            "Requirement already satisfied: backports.tarfile in /usr/local/lib/python3.10/dist-packages (from jaraco.context->wolframalpha<6.0.0,>=5.0.0->camel-ai[all]==0.2.9) (1.2.0)\n",
            "Requirement already satisfied: et-xmlfile in /usr/local/lib/python3.10/dist-packages (from openpyxl->unstructured[all-docs]<0.15,>=0.14; extra == \"rag\" or extra == \"tools\" or extra == \"all\"->camel-ai[all]==0.2.9) (2.0.0)\n",
            "Requirement already satisfied: olefile in /usr/local/lib/python3.10/dist-packages (from python-oxmsg->unstructured[all-docs]<0.15,>=0.14; extra == \"rag\" or extra == \"tools\" or extra == \"all\"->camel-ai[all]==0.2.9) (0.47)\n",
            "Requirement already satisfied: threadpoolctl>=3.1.0 in /usr/local/lib/python3.10/dist-packages (from scikit-learn->arxiv2text<0.2.0,>=0.1.14->camel-ai[all]==0.2.9) (3.5.0)\n",
            "Requirement already satisfied: trio~=0.17 in /usr/local/lib/python3.10/dist-packages (from selenium->scholarly==1.7.11->scholarly[tor]==1.7.11; extra == \"tools\" or extra == \"all\"->camel-ai[all]==0.2.9) (0.27.0)\n",
            "Requirement already satisfied: trio-websocket~=0.9 in /usr/local/lib/python3.10/dist-packages (from selenium->scholarly==1.7.11->scholarly[tor]==1.7.11; extra == \"tools\" or extra == \"all\"->camel-ai[all]==0.2.9) (0.11.1)\n",
            "Requirement already satisfied: sphinx<9,>=6 in /usr/local/lib/python3.10/dist-packages (from sphinx-rtd-theme->scholarly==1.7.11->scholarly[tor]==1.7.11; extra == \"tools\" or extra == \"all\"->camel-ai[all]==0.2.9) (8.1.3)\n",
            "Requirement already satisfied: docutils<0.22,>0.18 in /usr/local/lib/python3.10/dist-packages (from sphinx-rtd-theme->scholarly==1.7.11->scholarly[tor]==1.7.11; extra == \"tools\" or extra == \"all\"->camel-ai[all]==0.2.9) (0.21.2)\n",
            "Requirement already satisfied: sphinxcontrib-jquery<5,>=4 in /usr/local/lib/python3.10/dist-packages (from sphinx-rtd-theme->scholarly==1.7.11->scholarly[tor]==1.7.11; extra == \"tools\" or extra == \"all\"->camel-ai[all]==0.2.9) (4.1)\n",
            "Requirement already satisfied: aiofiles>=24.1.0 in /usr/local/lib/python3.10/dist-packages (from unstructured-client->unstructured<0.15,>=0.14->unstructured[all-docs]<0.15,>=0.14; extra == \"rag\" or extra == \"tools\" or extra == \"all\"->camel-ai[all]==0.2.9) (24.1.0)\n",
            "Requirement already satisfied: requests-toolbelt>=1.0.0 in /usr/local/lib/python3.10/dist-packages (from unstructured-client->unstructured<0.15,>=0.14->unstructured[all-docs]<0.15,>=0.14; extra == \"rag\" or extra == \"tools\" or extra == \"all\"->camel-ai[all]==0.2.9) (1.0.0)\n",
            "Requirement already satisfied: grpcio-status<2.0.dev0,>=1.33.2 in /usr/local/lib/python3.10/dist-packages (from google-api-core[grpc]!=2.0.*,!=2.1.*,!=2.10.*,!=2.2.*,!=2.3.*,!=2.4.*,!=2.5.*,!=2.6.*,!=2.7.*,!=2.8.*,!=2.9.*,<3.0.0dev,>=1.34.1->google-ai-generativelanguage==0.6.4->google-generativeai<0.7.0,>=0.6.0->camel-ai[all]==0.2.9) (1.62.3)\n",
            "Requirement already satisfied: hyperframe<7,>=6.0 in /usr/local/lib/python3.10/dist-packages (from h2<5,>=3->httpx[http2]>=0.22.0->nebula3-python==3.8.2->camel-ai[all]==0.2.9) (6.0.1)\n",
            "Requirement already satisfied: hpack<5,>=4.0 in /usr/local/lib/python3.10/dist-packages (from h2<5,>=3->httpx[http2]>=0.22.0->nebula3-python==3.8.2->camel-ai[all]==0.2.9) (4.0.0)\n",
            "Requirement already satisfied: parso<0.9.0,>=0.8.4 in /usr/local/lib/python3.10/dist-packages (from jedi>=0.16->ipython>=7.23.1->ipykernel<7.0.0,>=6.0.0->camel-ai[all]==0.2.9) (0.8.4)\n",
            "Requirement already satisfied: antlr4-python3-runtime==4.9.* in /usr/local/lib/python3.10/dist-packages (from omegaconf>=2.0->effdet->unstructured[all-docs]<0.15,>=0.14; extra == \"rag\" or extra == \"tools\" or extra == \"all\"->camel-ai[all]==0.2.9) (4.9.3)\n",
            "Requirement already satisfied: coloredlogs in /usr/local/lib/python3.10/dist-packages (from onnxruntime>=1.17.0->unstructured-inference==0.7.36->unstructured[all-docs]<0.15,>=0.14; extra == \"rag\" or extra == \"tools\" or extra == \"all\"->camel-ai[all]==0.2.9) (15.0.1)\n",
            "Requirement already satisfied: flatbuffers in /usr/local/lib/python3.10/dist-packages (from onnxruntime>=1.17.0->unstructured-inference==0.7.36->unstructured[all-docs]<0.15,>=0.14; extra == \"rag\" or extra == \"tools\" or extra == \"all\"->camel-ai[all]==0.2.9) (24.3.25)\n",
            "Requirement already satisfied: ptyprocess>=0.5 in /usr/local/lib/python3.10/dist-packages (from pexpect>4.3->ipython>=7.23.1->ipykernel<7.0.0,>=6.0.0->camel-ai[all]==0.2.9) (0.7.0)\n",
            "Requirement already satisfied: wcwidth in /usr/local/lib/python3.10/dist-packages (from prompt-toolkit!=3.0.0,!=3.0.1,<3.1.0,>=2.0.0->ipython>=7.23.1->ipykernel<7.0.0,>=6.0.0->camel-ai[all]==0.2.9) (0.2.13)\n",
            "Requirement already satisfied: pyasn1<0.7.0,>=0.4.6 in /usr/local/lib/python3.10/dist-packages (from pyasn1-modules>=0.2.1->google-auth<3.0dev,>=2.26.1->google-cloud-storage<3.0.0,>=2.18.0->camel-ai[all]==0.2.9) (0.6.1)\n",
            "Requirement already satisfied: contourpy>=1.0.1 in /usr/local/lib/python3.10/dist-packages (from matplotlib->unstructured-inference==0.7.36->unstructured[all-docs]<0.15,>=0.14; extra == \"rag\" or extra == \"tools\" or extra == \"all\"->camel-ai[all]==0.2.9) (1.3.1)\n",
            "Requirement already satisfied: cycler>=0.10 in /usr/local/lib/python3.10/dist-packages (from matplotlib->unstructured-inference==0.7.36->unstructured[all-docs]<0.15,>=0.14; extra == \"rag\" or extra == \"tools\" or extra == \"all\"->camel-ai[all]==0.2.9) (0.12.1)\n",
            "Requirement already satisfied: fonttools>=4.22.0 in /usr/local/lib/python3.10/dist-packages (from matplotlib->unstructured-inference==0.7.36->unstructured[all-docs]<0.15,>=0.14; extra == \"rag\" or extra == \"tools\" or extra == \"all\"->camel-ai[all]==0.2.9) (4.55.0)\n",
            "Requirement already satisfied: kiwisolver>=1.0.1 in /usr/local/lib/python3.10/dist-packages (from matplotlib->unstructured-inference==0.7.36->unstructured[all-docs]<0.15,>=0.14; extra == \"rag\" or extra == \"tools\" or extra == \"all\"->camel-ai[all]==0.2.9) (1.4.7)\n",
            "Requirement already satisfied: sphinxcontrib-applehelp>=1.0.7 in /usr/local/lib/python3.10/dist-packages (from sphinx<9,>=6->sphinx-rtd-theme->scholarly==1.7.11->scholarly[tor]==1.7.11; extra == \"tools\" or extra == \"all\"->camel-ai[all]==0.2.9) (2.0.0)\n",
            "Requirement already satisfied: sphinxcontrib-devhelp>=1.0.6 in /usr/local/lib/python3.10/dist-packages (from sphinx<9,>=6->sphinx-rtd-theme->scholarly==1.7.11->scholarly[tor]==1.7.11; extra == \"tools\" or extra == \"all\"->camel-ai[all]==0.2.9) (2.0.0)\n",
            "Requirement already satisfied: sphinxcontrib-htmlhelp>=2.0.6 in /usr/local/lib/python3.10/dist-packages (from sphinx<9,>=6->sphinx-rtd-theme->scholarly==1.7.11->scholarly[tor]==1.7.11; extra == \"tools\" or extra == \"all\"->camel-ai[all]==0.2.9) (2.1.0)\n",
            "Requirement already satisfied: sphinxcontrib-jsmath>=1.0.1 in /usr/local/lib/python3.10/dist-packages (from sphinx<9,>=6->sphinx-rtd-theme->scholarly==1.7.11->scholarly[tor]==1.7.11; extra == \"tools\" or extra == \"all\"->camel-ai[all]==0.2.9) (1.0.1)\n",
            "Requirement already satisfied: sphinxcontrib-qthelp>=1.0.6 in /usr/local/lib/python3.10/dist-packages (from sphinx<9,>=6->sphinx-rtd-theme->scholarly==1.7.11->scholarly[tor]==1.7.11; extra == \"tools\" or extra == \"all\"->camel-ai[all]==0.2.9) (2.0.0)\n",
            "Requirement already satisfied: sphinxcontrib-serializinghtml>=1.1.9 in /usr/local/lib/python3.10/dist-packages (from sphinx<9,>=6->sphinx-rtd-theme->scholarly==1.7.11->scholarly[tor]==1.7.11; extra == \"tools\" or extra == \"all\"->camel-ai[all]==0.2.9) (2.0.0)\n",
            "Requirement already satisfied: snowballstemmer>=2.2 in /usr/local/lib/python3.10/dist-packages (from sphinx<9,>=6->sphinx-rtd-theme->scholarly==1.7.11->scholarly[tor]==1.7.11; extra == \"tools\" or extra == \"all\"->camel-ai[all]==0.2.9) (2.2.0)\n",
            "Requirement already satisfied: babel>=2.13 in /usr/local/lib/python3.10/dist-packages (from sphinx<9,>=6->sphinx-rtd-theme->scholarly==1.7.11->scholarly[tor]==1.7.11; extra == \"tools\" or extra == \"all\"->camel-ai[all]==0.2.9) (2.16.0)\n",
            "Requirement already satisfied: alabaster>=0.7.14 in /usr/local/lib/python3.10/dist-packages (from sphinx<9,>=6->sphinx-rtd-theme->scholarly==1.7.11->scholarly[tor]==1.7.11; extra == \"tools\" or extra == \"all\"->camel-ai[all]==0.2.9) (1.0.0)\n",
            "Requirement already satisfied: imagesize>=1.3 in /usr/local/lib/python3.10/dist-packages (from sphinx<9,>=6->sphinx-rtd-theme->scholarly==1.7.11->scholarly[tor]==1.7.11; extra == \"tools\" or extra == \"all\"->camel-ai[all]==0.2.9) (1.4.1)\n",
            "Requirement already satisfied: tomli>=2 in /usr/local/lib/python3.10/dist-packages (from sphinx<9,>=6->sphinx-rtd-theme->scholarly==1.7.11->scholarly[tor]==1.7.11; extra == \"tools\" or extra == \"all\"->camel-ai[all]==0.2.9) (2.1.0)\n",
            "Requirement already satisfied: sortedcontainers in /usr/local/lib/python3.10/dist-packages (from trio~=0.17->selenium->scholarly==1.7.11->scholarly[tor]==1.7.11; extra == \"tools\" or extra == \"all\"->camel-ai[all]==0.2.9) (2.4.0)\n",
            "Requirement already satisfied: outcome in /usr/local/lib/python3.10/dist-packages (from trio~=0.17->selenium->scholarly==1.7.11->scholarly[tor]==1.7.11; extra == \"tools\" or extra == \"all\"->camel-ai[all]==0.2.9) (1.3.0.post0)\n",
            "Requirement already satisfied: wsproto>=0.14 in /usr/local/lib/python3.10/dist-packages (from trio-websocket~=0.9->selenium->scholarly==1.7.11->scholarly[tor]==1.7.11; extra == \"tools\" or extra == \"all\"->camel-ai[all]==0.2.9) (1.2.0)\n",
            "Requirement already satisfied: iopath in /usr/local/lib/python3.10/dist-packages (from layoutparser->unstructured-inference==0.7.36->unstructured[all-docs]<0.15,>=0.14; extra == \"rag\" or extra == \"tools\" or extra == \"all\"->camel-ai[all]==0.2.9) (0.1.10)\n",
            "Requirement already satisfied: humanfriendly>=9.1 in /usr/local/lib/python3.10/dist-packages (from coloredlogs->onnxruntime>=1.17.0->unstructured-inference==0.7.36->unstructured[all-docs]<0.15,>=0.14; extra == \"rag\" or extra == \"tools\" or extra == \"all\"->camel-ai[all]==0.2.9) (10.0)\n"
          ]
        }
      ],
      "source": [
        "pip install \"camel-ai[all]==0.2.9\""
      ]
    },
    {
      "cell_type": "code",
      "source": [
        "import os\n",
        "from getpass import getpass\n",
        "\n",
        "# Prompt for the API key securely\n",
        "openai_api_key = getpass('Enter your API key: ')\n",
        "os.environ[\"OPENAI_API_KEY\"] = openai_api_key"
      ],
      "metadata": {
        "id": "Jo-X1VQwUdIU",
        "colab": {
          "base_uri": "https://localhost:8080/"
        },
        "outputId": "0ad05396-03c7-41ac-d27e-ad257bf2fd71"
      },
      "execution_count": null,
      "outputs": [
        {
          "name": "stdout",
          "output_type": "stream",
          "text": [
            "Enter your API key: ··········\n"
          ]
        }
      ]
    },
    {
      "cell_type": "markdown",
      "metadata": {
        "id": "0J0_iW-YVcq2"
      },
      "source": [
        "## 🔥  **Firecrawl: To crawl**"
      ]
    },
    {
      "cell_type": "markdown",
      "metadata": {
        "id": "LJLuJeLSehbr"
      },
      "source": [
        "Let's get started with the exploration of the first feature of Firecrawl -  Crawl: Extracts content from all subpages in an LLM-ready format (markdown, structured data, screenshot, HTML, links, metadata) for easy analysis.\n",
        "\n",
        "Step 1: Set up your firecrawl API key\n",
        "\n",
        "You just need to go to this link and sign in to get your API Key: https://www.firecrawl.dev/app/api-keys"
      ]
    },
    {
      "cell_type": "code",
      "execution_count": null,
      "metadata": {
        "colab": {
          "base_uri": "https://localhost:8080/"
        },
        "id": "DFW8uMF5dI9c",
        "outputId": "55f0a7fa-650b-456c-b22c-7847e5b98c35"
      },
      "outputs": [
        {
          "name": "stdout",
          "output_type": "stream",
          "text": [
            "Enter your API key: ··········\n"
          ]
        }
      ],
      "source": [
        "import os\n",
        "from getpass import getpass\n",
        "\n",
        "# Prompt for the Firecrawl API key securely\n",
        "firecrawl_api_key = getpass('Enter your API key: ')\n",
        "os.environ[\"FIRECRAWL_API_KEY\"] = firecrawl_api_key"
      ]
    },
    {
      "cell_type": "markdown",
      "source": [
        "Step 2: Import necessary modules"
      ],
      "metadata": {
        "id": "BuPVfcSDawrH"
      }
    },
    {
      "cell_type": "code",
      "source": [
        "from typing import List\n",
        "from pydantic import BaseModel, Field\n",
        "from camel.loaders import Firecrawl"
      ],
      "metadata": {
        "id": "u9BC0ka0aZGH"
      },
      "execution_count": null,
      "outputs": []
    },
    {
      "cell_type": "markdown",
      "source": [
        "Step 3: Crawl the website\n",
        "\n",
        "It will crawl the CAMEL-AI website and generate the LLM-friendly output as shown in markdown below."
      ],
      "metadata": {
        "id": "F-GtoKDsShDl"
      }
    },
    {
      "cell_type": "code",
      "execution_count": null,
      "metadata": {
        "colab": {
          "base_uri": "https://localhost:8080/"
        },
        "id": "_NcsNM9rc_LT",
        "outputId": "416c7c1f-db0a-4132-a783-0244ddc78b89"
      },
      "outputs": [
        {
          "output_type": "stream",
          "name": "stdout",
          "text": [
            "completed\n"
          ]
        }
      ],
      "source": [
        "# Initialize the Firecrawl instance\n",
        "firecrawl = Firecrawl()\n",
        "\n",
        "# Use the `crawl` method to retrieve content from the specified URL\n",
        "firecrawl_response = firecrawl.crawl(\n",
        "    url=\"https://www.camel-ai.org/about\"  # Target URL to crawl for content\n",
        ")\n",
        "\n",
        "print(firecrawl_response[\"status\"])\n",
        "\n",
        "# Print the markdown content from the first page in the crawled data\n",
        "# print(firecrawl_response[\"data\"][0][\"markdown\"])\n"
      ]
    },
    {
      "cell_type": "markdown",
      "metadata": {
        "id": "PfXRfs2OEPtZ"
      },
      "source": [
        "Step 4: Interact with CAMEL agent"
      ]
    },
    {
      "cell_type": "code",
      "execution_count": null,
      "metadata": {
        "colab": {
          "base_uri": "https://localhost:8080/"
        },
        "outputId": "0b6f4851-5b2a-44ed-8a2e-3abcbbbdce51",
        "id": "cgXZ2dA9EPtZ"
      },
      "outputs": [
        {
          "output_type": "stream",
          "name": "stdout",
          "text": [
            "CAMEL is an open-source library designed for the study of autonomous and communicative agents. The primary goal of CAMEL is to explore the scaling laws of these agents, which can provide valuable insights into their behaviors, capabilities, and potential risks. By facilitating research on a large scale, CAMEL aims to enhance the understanding of how these agents operate in various environments.\n",
            "\n",
            "The library supports a diverse range of agents, tasks, prompts, models, and simulated environments, making it a versatile tool for researchers in the field. CAMEL encourages collaboration and contributions from the community, inviting individuals to join their efforts through platforms like Slack and Discord.\n",
            "\n",
            "In addition to its research focus, CAMEL has a team of contributors and advisors, including notable figures from institutions like King Abdullah University of Science and Technology and the University of Oxford. The project is actively seeking more contributors to expand its capabilities and impact in the study of multi-agent systems. \n",
            "\n",
            "For more information, you can visit their [official website](https://www.camel-ai.org/team) or their GitHub repository [here](https://github.com/camel-ai/camel).\n"
          ]
        }
      ],
      "source": [
        "from camel.agents import ChatAgent\n",
        "\n",
        "# Initialize a ChatAgent\n",
        "agent = ChatAgent(\n",
        "    system_message=\"You're a helpful assistant\",  # Define the agent's role or purpose\n",
        ")\n",
        "\n",
        "# Use the ChatAgent to generate a response based on the Firecrawl crawl data\n",
        "response = agent.step(f\"Based on {firecrawl_response}, explain what CAMEL is.\")\n",
        "\n",
        "# Print the content of the first message in the response, which contains the assistant's answer\n",
        "print(response.msgs[0].content)\n"
      ]
    },
    {
      "cell_type": "markdown",
      "metadata": {
        "id": "pt0IEH0jerxT"
      },
      "source": [
        "## 🔥 Firecrawl: To Scrape\n",
        "\n",
        "\n",
        "Scrape: This feature allows you to extract content from a single URL and convert it into various formats optimized for LLMs. The data is delivered in markdown, structured data (via LLM Extract), screenshots, or raw HTML, making it versatile for analysis and integration with other AI applications.\n",
        "\n",
        "\n",
        "\n"
      ]
    },
    {
      "cell_type": "code",
      "execution_count": null,
      "metadata": {
        "colab": {
          "base_uri": "https://localhost:8080/"
        },
        "id": "67X6W_KXd6Ko",
        "outputId": "4fb7d8f8-d9a5-4005-b316-741f2df8faee"
      },
      "outputs": [
        {
          "output_type": "stream",
          "name": "stdout",
          "text": [
            "{'company_mission': 'We are finding the scaling law of agent.', 'is_open_source': True}\n"
          ]
        }
      ],
      "source": [
        "# Define the schema\n",
        "class ExtractSchema(BaseModel):\n",
        "    company_mission: str\n",
        "    is_open_source: bool\n",
        "\n",
        "# Perform the structured scrape\n",
        "response = firecrawl.structured_scrape(\n",
        "    url='https://www.camel-ai.org/about', # URL to scrape data from\n",
        "    response_format=ExtractSchema\n",
        ")\n",
        "\n",
        "print(response)"
      ]
    },
    {
      "cell_type": "markdown",
      "source": [
        "Let's have a look how the assistant CAMEL agent can answer our questions with the response from Firecrawl."
      ],
      "metadata": {
        "id": "fC8PS9ncTync"
      }
    },
    {
      "cell_type": "code",
      "source": [
        "# Use the ChatAgent to generate a response based on the Firecrawl crawl data\n",
        "response = agent.step(f\"Based on {response}, explain what the company mission of CAMEL is.\")\n",
        "\n",
        "# Print the content of the first message in the response, which contains the assistant's answer\n",
        "print(response.msgs[0].content)"
      ],
      "metadata": {
        "colab": {
          "base_uri": "https://localhost:8080/"
        },
        "id": "HyVreek1TZXQ",
        "outputId": "2b85b990-9a6d-450f-f86d-51727da17b23"
      },
      "execution_count": null,
      "outputs": [
        {
          "output_type": "stream",
          "name": "stdout",
          "text": [
            "The company mission of CAMEL is to \"find the scaling law of agents.\" This mission focuses on understanding how the performance and behavior of autonomous and communicative agents change as their scale increases. In other words, CAMEL aims to investigate how these agents operate and interact in larger systems, which can provide insights into their capabilities, limitations, and potential risks.\n",
            "\n",
            "By studying scaling laws, CAMEL seeks to uncover patterns and principles that govern the behavior of agents when they are deployed in various environments and tasks. This research is crucial for advancing the field of artificial intelligence and multi-agent systems, as it can lead to better design, implementation, and management of these agents in real-world applications.\n",
            "\n",
            "Additionally, being an open-source initiative indicates that CAMEL encourages collaboration and contributions from the broader community, allowing researchers and developers to participate in and benefit from this exploration of agent behavior.\n"
          ]
        }
      ]
    },
    {
      "cell_type": "markdown",
      "metadata": {
        "id": "-_pnKO58evRN"
      },
      "source": [
        "## 🔥 Firecrawl: To Map\n",
        "\n",
        "Map: This feature takes a website as input and rapidly retrieves all associated URLs, providing a quick and comprehensive overview of the site’s structure. This high-speed mapping is ideal for efficient content discovery and organization."
      ]
    },
    {
      "cell_type": "code",
      "execution_count": null,
      "metadata": {
        "colab": {
          "base_uri": "https://localhost:8080/"
        },
        "id": "c_Qjpb63d8F8",
        "outputId": "c28693d4-2bee-4fa5-b3b6-20dd822fd7a7"
      },
      "outputs": [
        {
          "output_type": "stream",
          "name": "stdout",
          "text": [
            "{'success': True, 'links': ['https://www.camel-ai.org', 'https://www.camel-ai.org/blog', 'https://www.camel-ai.org/checkout', 'https://www.camel-ai.org/news', 'https://www.camel-ai.org/order-confirmation', 'https://www.camel-ai.org/paypal-checkout', 'https://www.camel-ai.org/team', 'https://www.camel-ai.org/integration', 'https://www.camel-ai.org/search', 'https://www.camel-ai.org/about', 'https://www.camel-ai.org/post/crab', 'https://www.camel-ai.org/post/releasenotes-sprint4', 'https://www.camel-ai.org/post/releasenotes-sprint56', 'https://www.camel-ai.org/post/tool-usage', 'https://www.camel-ai.org/post/releasenotes-9', 'https://www.camel-ai.org/post/release-notes-10', 'https://www.camel-ai.org/post/realise-notes-9', 'https://www.camel-ai.org/post/realise-notes-8', 'https://www.camel-ai.org/post/getting-started-with-camel-ai', 'https://www.camel-ai.org/post/camel-release-notes-sprint-13', 'https://www.camel-ai.org/post/camel-release-notes-sprint-7', 'https://www.camel-ai.org/post/camel-release-notes-sprint-11', 'https://www.camel-ai.org/post/camel-release-notes-sprint-12', 'https://www.camel-ai.org/post/get-started-with-retrieval-augmented-generation', 'https://www.camel-ai.org/post/get-started-with-models---camel-101', 'https://www.camel-ai.org/post/week-4-of-may-camel-ai-release-notes', 'https://www.camel-ai.org/post/added-the-workforce-module-in-the-camel-framework', 'https://www.camel-ai.org/post/week-1-of-june-camel-ai-release-notes', 'https://www.camel-ai.org/post/3-ways-to-supercharge-camel-agents-with-web-data-using-firecrawl', 'https://www.camel-ai.org/post/mission-at-camel-ai-org-finding-the-scaling-laws-of-agents']}\n"
          ]
        }
      ],
      "source": [
        "# Call the `map_site` function from Firecrawl to retrieve all URLs from the specified website\n",
        "map_result = firecrawl.map_site(\n",
        "    url=\"https://www.camel-ai.org\"  # Target URL to map\n",
        ")\n",
        "\n",
        "# Print the resulting map, which should contain all associated URLs from the website\n",
        "print(map_result)"
      ]
    },
    {
      "cell_type": "code",
      "source": [
        "# Use the ChatAgent to generate a response based on the Firecrawl crawl data\n",
        "response = agent.step(f\"Based on {map_result}, which one is the main website for CAMEL-AI.\")\n",
        "\n",
        "# Print the content of the first message in the response, which contains the assistant's answer\n",
        "print(response.msgs[0].content)"
      ],
      "metadata": {
        "colab": {
          "base_uri": "https://localhost:8080/"
        },
        "id": "92p51qPOVDpC",
        "outputId": "58cec64f-2088-4e2b-f494-8bd0327a1246"
      },
      "execution_count": null,
      "outputs": [
        {
          "output_type": "stream",
          "name": "stdout",
          "text": [
            "The main website for CAMEL-AI is [https://www.camel-ai.org](https://www.camel-ai.org).\n"
          ]
        }
      ]
    },
    {
      "cell_type": "markdown",
      "source": [
        "## Conclusion\n",
        "\n",
        "\n",
        "In conclusion, using Firecrawl within the CAMEL framework streamlines the process of web data extraction and enhances your agents capabilities. With Firecrawl’s powerful features like Scrape, Crawl, and Map, you can efficiently gather content in formats ready for LLMs to use, directly feeding into CAMEL-AI’s multi-agent workflows. This setup not only simplifies data collection but also enables more intelligent and insightful agents."
      ],
      "metadata": {
        "id": "YMRyjmWuU5a_"
      }
    },
    {
      "cell_type": "markdown",
      "source": [
        "⭐ **Star the Repo**\n",
        "\n",
        "If you find CAMEL useful or interesting, please consider giving it a star on [GitHub](https://github.com/camel-ai/camel)! Your stars help others find this project and motivate us to continue improving it."
      ],
      "metadata": {
        "id": "XVjsJvXQy3V8"
      }
    }
  ],
  "metadata": {
    "colab": {
      "provenance": [],
      "include_colab_link": true
    },
    "kernelspec": {
      "display_name": "Python 3",
      "name": "python3"
    },
    "language_info": {
      "name": "python"
    }
  },
  "nbformat": 4,
  "nbformat_minor": 0
}
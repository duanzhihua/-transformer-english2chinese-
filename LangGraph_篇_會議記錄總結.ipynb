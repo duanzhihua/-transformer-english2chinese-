{
  "nbformat": 4,
  "nbformat_minor": 0,
  "metadata": {
    "colab": {
      "provenance": [],
      "include_colab_link": true
    },
    "kernelspec": {
      "name": "python3",
      "display_name": "Python 3"
    },
    "language_info": {
      "name": "python"
    }
  },
  "cells": [
    {
      "cell_type": "markdown",
      "metadata": {
        "id": "view-in-github",
        "colab_type": "text"
      },
      "source": [
        "<a href=\"https://colab.research.google.com/github/duanzhihua/-transformer-english2chinese-/blob/main/LangGraph_%E7%AF%87_%E6%9C%83%E8%AD%B0%E8%A8%98%E9%8C%84%E7%B8%BD%E7%B5%90.ipynb\" target=\"_parent\"><img src=\"https://colab.research.google.com/assets/colab-badge.svg\" alt=\"Open In Colab\"/></a>"
      ]
    },
    {
      "cell_type": "markdown",
      "source": [
        "# 🥱 LangGraph 篇_會議記錄總結\n",
        "\n",
        "❤️ Created by [hengshiousheu](https://huggingface.co/Heng666)."
      ],
      "metadata": {
        "id": "TLnXvM9FdNdy"
      }
    },
    {
      "cell_type": "markdown",
      "source": [
        "# 環境建置\n",
        "\n",
        "## 安裝套件包\n",
        "\n",
        "在本演練中，\n",
        "\n",
        "我們將使用以下套件："
      ],
      "metadata": {
        "id": "UkklmRcQdbAX"
      }
    },
    {
      "cell_type": "code",
      "source": [
        "%pip install --upgrade --quiet langchain\n",
        "%pip install --upgrade --quiet langchain-openai\n",
        "%pip install --upgrade --quiet langgraph"
      ],
      "metadata": {
        "id": "AnIS8uiFdbnX"
      },
      "execution_count": null,
      "outputs": []
    },
    {
      "cell_type": "markdown",
      "source": [
        "我們需要設置 環境變數 `OPENAI_API_KEY` ，可以直接完成，如下所示："
      ],
      "metadata": {
        "id": "cKjnMBxKdgD2"
      }
    },
    {
      "cell_type": "code",
      "source": [
        "import os\n",
        "import getpass\n",
        "from google.colab import userdata\n",
        "\n",
        "os.environ[\"OPENAI_API_KEY\"] = userdata.get('OPENAI_API_KEY')"
      ],
      "metadata": {
        "id": "mmKDNTDpdgxk"
      },
      "execution_count": null,
      "outputs": []
    },
    {
      "cell_type": "markdown",
      "source": [
        "### (可用可不用)LangSmith\n",
        "\n",
        "你用LangChain構建的許多應用程式將包含多個步驟，並多次調用LLM調用。隨著這些應用程式變得越來越複雜，能夠檢查您的鏈或代理內部到底發生了什麼變得至關重要。最好的方法是與[LangSmith](https://smith.langchain.com)合作。\n",
        "\n",
        "請注意，LangSmith 不是必需的，但它很有説明。如果您確實想使用 LangSmith，請在上面的鏈接中註冊后，請確保設置環境變數以開始記錄跟蹤："
      ],
      "metadata": {
        "id": "-dwJ_3ZRdjPB"
      }
    },
    {
      "cell_type": "code",
      "source": [
        "import os\n",
        "import getpass\n",
        "from datetime import datetime\n",
        "import pytz\n",
        "\n",
        "current_time = datetime.now(pytz.timezone('Asia/Taipei')).strftime(\"%Y-%m-%d %Z\")\n",
        "\n",
        "os.environ[\"LANGCHAIN_TRACING_V2\"] = \"false\" ##想要使用記得改 true, 不要時改 false.\n",
        "os.environ[\"LANGCHAIN_ENDPOINT\"] = \"https://api.smith.langchain.com\"\n",
        "os.environ[\"LANGCHAIN_PROJECT\"] = f\"LangGraph 會議總結-{current_time}\"\n",
        "os.environ[\"LANGCHAIN_API_KEY\"] = userdata.get('LANGCHAIN_API_KEY')"
      ],
      "metadata": {
        "id": "pqFlVSS1djB7"
      },
      "execution_count": null,
      "outputs": []
    },
    {
      "cell_type": "markdown",
      "source": [
        "# 開始會議記錄設計"
      ],
      "metadata": {
        "id": "Fr5K9xx-eZeE"
      }
    },
    {
      "cell_type": "markdown",
      "source": [
        "## 建立 LLM"
      ],
      "metadata": {
        "id": "yUsZhqZdkXEH"
      }
    },
    {
      "cell_type": "code",
      "source": [
        "from langchain_openai import ChatOpenAI\n",
        "\n",
        "# 創建LLM實例\n",
        "llm = ChatOpenAI(\n",
        "    # model_name=\"gpt-4\",  # 修改模型版本\n",
        "    temperature=0.7,     # 調整溫度\n",
        "    max_tokens=1024      # 設定最大輸出 token 量\n",
        ")"
      ],
      "metadata": {
        "id": "vUTjO6_qkZ9I"
      },
      "execution_count": null,
      "outputs": []
    },
    {
      "cell_type": "markdown",
      "source": [
        "## 建立狀態"
      ],
      "metadata": {
        "id": "zL5Ia0WcecGS"
      }
    },
    {
      "cell_type": "code",
      "source": [
        "from typing import List\n",
        "from pydantic import BaseModel, Field\n",
        "from langchain_core.pydantic_v1 import BaseModel\n",
        "\n",
        "# 使用Pydantic定義數據模型\n",
        "class AgendaItem(BaseModel):\n",
        "    topic: str = Field(description=\"議程項目的主題\")\n",
        "    discussion: str = Field(default=\"\", description=\"關於該主題的討論\")\n",
        "    action_items: List[str] = Field(default_factory=list, description=\"相關的行動項目\")\n",
        "\n",
        "class MeetingState(BaseModel):\n",
        "    transcript: str = Field(description=\"會議的完整記錄\")\n",
        "    agenda_items: List[AgendaItem] = Field(default_factory=list, description=\"會議的議程項目列表\")\n",
        "    summary: str = Field(default=\"\", description=\"會議的總結\")"
      ],
      "metadata": {
        "id": "5x4cwncKenBQ"
      },
      "execution_count": null,
      "outputs": []
    },
    {
      "cell_type": "markdown",
      "source": [
        "## 建立節點"
      ],
      "metadata": {
        "id": "qaGYd-EOfAip"
      }
    },
    {
      "cell_type": "code",
      "source": [
        "import re\n",
        "from langchain_core.messages import HumanMessage\n",
        "\n",
        "def extract_agenda_items(state: MeetingState) -> MeetingState:\n",
        "    \"\"\"從會議記錄中提取議程項目\"\"\"\n",
        "    response = llm.invoke([HumanMessage(content=f\"從以下會議記錄中提取主要議程項目，並以Python列表格式返回，每個項目只包含主題：\\n{state.transcript}\")])\n",
        "\n",
        "    topics = re.findall(r\"'([^']+)'\", response.content) # 使用正則表達式提取議程項目\n",
        "\n",
        "    state.agenda_items = [AgendaItem(topic=topic.strip()) for topic in topics if topic.strip()]\n",
        "\n",
        "    return state\n",
        "\n",
        "def process_agenda_items(state: MeetingState) -> MeetingState:\n",
        "    \"\"\"處理每個議程項目，添加討論內容和行動項目\"\"\"\n",
        "    for item in state.agenda_items:\n",
        "        response = llm.invoke([HumanMessage(content=f\"對於議題'{item.topic}'，請從以下會議記錄中提取相關的討論內容和行動項目。請使用以下格式：\\n討論：[討論內容]\\n行動項目：\\n- [行動項目1]\\n- [行動項目2]\\n...\\n\\n會議記錄：\\n{state.transcript}\")])\n",
        "\n",
        "        # 分割討論和行動項目\n",
        "        parts = response.content.split(\"行動項目：\")\n",
        "        if len(parts) == 2:\n",
        "            discussion, actions = parts\n",
        "            item.discussion = discussion.replace(\"討論：\", \"\").strip()\n",
        "            item.action_items = [action.strip().lstrip(\"- \") for action in actions.split(\"\\n\") if action.strip()]\n",
        "        else:\n",
        "            item.discussion = response.content\n",
        "    return state\n",
        "\n",
        "def generate_summary(state: MeetingState) -> MeetingState:\n",
        "    \"\"\"生成會議總結\"\"\"\n",
        "    agenda_summary = \"\\n\".join([f\"- {item.topic}\" for item in state.agenda_items])\n",
        "    response = llm.invoke([HumanMessage(content=f\"請根據以下議程項目生成一個簡潔的會議總結：\\n{agenda_summary}\")])\n",
        "    state.summary = response.content\n",
        "    return state"
      ],
      "metadata": {
        "id": "HpNaGYUlfFlS"
      },
      "execution_count": null,
      "outputs": []
    },
    {
      "cell_type": "markdown",
      "source": [
        "## 建立圖，並連接節點與邊"
      ],
      "metadata": {
        "id": "OJSwVzg8h1-9"
      }
    },
    {
      "cell_type": "code",
      "execution_count": null,
      "metadata": {
        "id": "KFVBfJc3dMID"
      },
      "outputs": [],
      "source": [
        "import os\n",
        "from langgraph.graph import END, Graph\n",
        "\n",
        "# 創建圖\n",
        "workflow = Graph()\n",
        "\n",
        "# 添加節點\n",
        "workflow.add_node(\"extract_agenda\", extract_agenda_items)\n",
        "workflow.add_node(\"process_agenda\", process_agenda_items)\n",
        "workflow.add_node(\"summarize\", generate_summary)\n",
        "\n",
        "# 定義邊\n",
        "workflow.add_edge(\"extract_agenda\", \"process_agenda\")\n",
        "workflow.add_edge(\"process_agenda\", \"summarize\")\n",
        "workflow.add_edge(\"summarize\", END)\n",
        "\n",
        "# 設置入口點\n",
        "workflow.set_entry_point(\"extract_agenda\")\n",
        "\n",
        "# 編譯圖\n",
        "app = workflow.compile()"
      ]
    },
    {
      "cell_type": "markdown",
      "source": [
        "## 可視化當前節點"
      ],
      "metadata": {
        "id": "Nzj10WR_lrkF"
      }
    },
    {
      "cell_type": "code",
      "source": [
        "from IPython.display import Image, display\n",
        "\n",
        "display(Image(app.get_graph(xray=True).draw_mermaid_png()))"
      ],
      "metadata": {
        "colab": {
          "base_uri": "https://localhost:8080/",
          "height": 404
        },
        "id": "helNU-NIluYK",
        "outputId": "4ebd6480-fea1-427b-ef58-f295828602b2"
      },
      "execution_count": null,
      "outputs": [
        {
          "output_type": "display_data",
          "data": {
            "image/jpeg": "[encoded data removed]",
            "text/plain": [
              "<IPython.core.display.Image object>"
            ]
          },
          "metadata": {}
        }
      ]
    },
    {
      "cell_type": "markdown",
      "source": [
        "## 開始與圖對話"
      ],
      "metadata": {
        "id": "AVTm5zuSh_7S"
      }
    },
    {
      "cell_type": "code",
      "source": [
        "# 使用示例\n",
        "initial_state = MeetingState(\n",
        "    transcript=\"\"\"\n",
        "    會議開始於9:00 AM。Alice歡迎所有人並介紹了會議議程。\n",
        "\n",
        "    首先，Bob報告了Q2的銷售數據。銷售額比去年同期增長了15%。團隊討論了新產品線對銷售增長的影響。\n",
        "    行動項目：準備詳細的產品線性能報告。\n",
        "\n",
        "    接著，Carol提出了客戶服務改進計劃。她建議實施新的票務系統來提高響應時間。\n",
        "    行動項目：研究票務系統選項並在下次會議上提出建議。\n",
        "\n",
        "    最後，Dave更新了即將到來的市場營銷活動。團隊同意將預算增加10%以擴大社交媒體影響力。\n",
        "    行動項目：修訂營銷預算並發送給財務部門審批。\n",
        "\n",
        "    會議在10:30 AM結束，下次會議定於下週二。\n",
        "    \"\"\"\n",
        ")\n",
        "\n",
        "result: MeetingState = app.invoke(initial_state, debug=False)"
      ],
      "metadata": {
        "id": "VSUwL71segRG"
      },
      "execution_count": null,
      "outputs": []
    },
    {
      "cell_type": "code",
      "source": [
        "print(result)"
      ],
      "metadata": {
        "id": "AASXa1OjiFqs",
        "colab": {
          "base_uri": "https://localhost:8080/"
        },
        "outputId": "bae6d8cf-7896-4f06-e06a-d96dd61398ae"
      },
      "execution_count": null,
      "outputs": [
        {
          "output_type": "stream",
          "name": "stdout",
          "text": [
            "transcript='\\n    會議開始於9:00 AM。Alice歡迎所有人並介紹了會議議程。\\n\\n    首先，Bob報告了Q2的銷售數據。銷售額比去年同期增長了15%。團隊討論了新產品線對銷售增長的影響。\\n    行動項目：準備詳細的產品線性能報告。\\n\\n    接著，Carol提出了客戶服務改進計劃。她建議實施新的票務系統來提高響應時間。\\n    行動項目：研究票務系統選項並在下次會議上提出建議。\\n\\n    最後，Dave更新了即將到來的市場營銷活動。團隊同意將預算增加10%以擴大社交媒體影響力。\\n    行動項目：修訂營銷預算並發送給財務部門審批。\\n\\n    會議在10:30 AM結束，下次會議定於下週二。\\n    ' agenda_items=[AgendaItem(topic='報告Q2銷售數據及討論新產品線影響', discussion='報告Q2銷售數據及討論新產品線影響', action_items=['準備詳細的產品線性能報告。', '研究票務系統選項並在下次會議上提出建議。', '修訂營銷預算並發送給財務部門審批。']), AgendaItem(topic='客戶服務改進計劃及研究票務系統選項', discussion='客戶服務改進計劃及研究票務系統選項', action_items=['準備詳細的新票務系統選項報告。', '在下次會議上提出新的票務系統選項建議。']), AgendaItem(topic='市場營銷活動更新及修訂營銷預算', discussion='市場營銷活動更新及修訂營銷預算', action_items=['準備詳細的產品線性能報告。', '研究票務系統選項並在下次會議上提出建議。', '修訂營銷預算並發送給財務部門審批。'])] summary='會議總結：\\n在本次會議中，我們首先報告了第二季度的銷售數據，並討論了新產品線對銷售的影響。接著我們討論了客戶服務改進計劃，並研究了不同的票務系統選項。最後，我們更新了市場營銷活動，並修訂了營銷預算。這次會議為我們的未來工作指明了方向，我們將積極執行相應的計劃和措施以提升業務表現。'\n"
          ]
        }
      ]
    },
    {
      "cell_type": "code",
      "source": [
        "print(result.summary)\n",
        "print(\"\\n議程項目：\")\n",
        "for item in result.agenda_items:\n",
        "    print(f\"\\n主題：{item.topic}\")\n",
        "    print(f\"討論：{item.discussion}\")"
      ],
      "metadata": {
        "colab": {
          "base_uri": "https://localhost:8080/"
        },
        "id": "B98ZUg4AoP3R",
        "outputId": "1235ba62-cfd6-4745-ab66-88a8f8a977ac"
      },
      "execution_count": null,
      "outputs": [
        {
          "output_type": "stream",
          "name": "stdout",
          "text": [
            "會議總結：\n",
            "在本次會議中，我們首先報告了第二季度的銷售數據，並討論了新產品線對銷售的影響。接著我們討論了客戶服務改進計劃，並研究了不同的票務系統選項。最後，我們更新了市場營銷活動，並修訂了營銷預算。這次會議為我們的未來工作指明了方向，我們將積極執行相應的計劃和措施以提升業務表現。\n",
            "\n",
            "議程項目：\n",
            "\n",
            "主題：報告Q2銷售數據及討論新產品線影響\n",
            "討論：報告Q2銷售數據及討論新產品線影響\n",
            "行動項目：['準備詳細的產品線性能報告。', '研究票務系統選項並在下次會議上提出建議。', '修訂營銷預算並發送給財務部門審批。']\n",
            "\n",
            "主題：客戶服務改進計劃及研究票務系統選項\n",
            "討論：客戶服務改進計劃及研究票務系統選項\n",
            "行動項目：['準備詳細的新票務系統選項報告。', '在下次會議上提出新的票務系統選項建議。']\n",
            "\n",
            "主題：市場營銷活動更新及修訂營銷預算\n",
            "討論：市場營銷活動更新及修訂營銷預算\n",
            "行動項目：['準備詳細的產品線性能報告。', '研究票務系統選項並在下次會議上提出建議。', '修訂營銷預算並發送給財務部門審批。']\n"
          ]
        }
      ]
    },
    {
      "cell_type": "markdown",
      "source": [
        "## 反思與延伸作業\n",
        "恭喜你完成了這個使用 LangGraph 和 LLM 處理會議記錄的實踐！現在讓我們進行一些反思，並探索如何進一步應用和擴展你所學到的知識。\n",
        "\n"
      ],
      "metadata": {
        "id": "5VFIf_OKpiLy"
      }
    },
    {
      "cell_type": "markdown",
      "source": [
        "\n",
        "### 反思問題\n",
        "\n",
        "1. 系統的優勢與局限性：\n",
        "  - 這個系統相比傳統的手動會議記錄方法有什麼優勢？\n",
        "  - 你認為這個系統可能存在哪些局限性或潛在問題？\n",
        "\n",
        "2. LLM 的應用：\n",
        "  - 在這個項目中，LLM 扮演了什麼角色？它如何改變了我們處理文本信息的方式？\n",
        "\n",
        "3. 工作流程設計：\n",
        "  - LangGraph 如何幫助我們組織複雜的工作流程？\n",
        "  - 你認為這種工作流程設計方法可以應用到哪些其他領域？\n"
      ],
      "metadata": {
        "id": "jR8VGuqyqKQN"
      }
    },
    {
      "cell_type": "markdown",
      "source": [
        "###延伸作業\n",
        "\n",
        "1. 功能擴展：\n",
        "  - 嘗試添加一個新的節點來識別會議中的關鍵決策點。\n",
        "  - 實現一個功能來自動生成會議的後續行動項目列表。"
      ],
      "metadata": {
        "id": "BWHT_doyqLhb"
      }
    },
    {
      "cell_type": "markdown",
      "source": [
        "\n",
        "通過完成這些反思和作業，你將能夠更深入地理解 LangGraph 和 LLM 在實際應用中的潛力和挑戰，並培養將這些技術應用到其他領域的能力。祝你學習愉快，期待看到你的創新想法！"
      ],
      "metadata": {
        "id": "5iSW-r_2qNp6"
      }
    }
  ]
}
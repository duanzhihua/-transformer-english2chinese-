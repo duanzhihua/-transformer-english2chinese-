{
  "nbformat": 4,
  "nbformat_minor": 0,
  "metadata": {
    "colab": {
      "provenance": [],
      "collapsed_sections": [
        "tcVQ3o9ds0bX",
        "mkBi9WAPs3GC",
        "SFtiTFvBs4Ax",
        "euzxbiT_s7l8",
        "bmvYv_zPU24p",
        "Y2sp0BK3VRJm"
      ],
      "toc_visible": true,
      "include_colab_link": true
    },
    "kernelspec": {
      "name": "python3",
      "display_name": "Python 3"
    },
    "language_info": {
      "name": "python"
    }
  },
  "cells": [
    {
      "cell_type": "markdown",
      "metadata": {
        "id": "view-in-github",
        "colab_type": "text"
      },
      "source": [
        "<a href=\"https://colab.research.google.com/github/duanzhihua/-transformer-english2chinese-/blob/main/%E2%80%9CLangGraph_%E7%AF%87_%E5%A4%9A%E8%AA%9E%E8%A8%80%E7%BF%BB%E8%AD%AF_ipynb%E2%80%9D%E7%9A%84%E5%89%AF%E6%9C%AC.ipynb\" target=\"_parent\"><img src=\"https://colab.research.google.com/assets/colab-badge.svg\" alt=\"Open In Colab\"/></a>"
      ]
    },
    {
      "cell_type": "markdown",
      "source": [
        "# 🥱 LangGraph 篇_多語言翻譯\n",
        "\n",
        "❤️ Created by [hengshiousheu](https://huggingface.co/Heng666)."
      ],
      "metadata": {
        "id": "_c_oR2ASsi2d"
      }
    },
    {
      "cell_type": "markdown",
      "source": [
        "# 環境建置\n",
        "\n",
        "## 安裝套件包\n",
        "\n",
        "在本演練中，\n",
        "\n",
        "我們將使用以下套件："
      ],
      "metadata": {
        "id": "YdxgPUK5spzb"
      }
    },
    {
      "cell_type": "code",
      "execution_count": 1,
      "metadata": {
        "id": "Vsohs5XCsiCd",
        "colab": {
          "base_uri": "https://localhost:8080/"
        },
        "outputId": "5b9170aa-f31e-45e2-adbe-286a6628f406"
      },
      "outputs": [
        {
          "output_type": "stream",
          "name": "stdout",
          "text": [
            "\u001b[?25l   \u001b[90m━━━━━━━━━━━━━━━━━━━━━━━━━━━━━━━━━━━━━━━━\u001b[0m \u001b[32m0.0/1.0 MB\u001b[0m \u001b[31m?\u001b[0m eta \u001b[36m-:--:--\u001b[0m\r\u001b[2K   \u001b[91m━━━━━━\u001b[0m\u001b[90m╺\u001b[0m\u001b[90m━━━━━━━━━━━━━━━━━━━━━━━━━━━━━━━━━\u001b[0m \u001b[32m0.2/1.0 MB\u001b[0m \u001b[31m4.4 MB/s\u001b[0m eta \u001b[36m0:00:01\u001b[0m\r\u001b[2K   \u001b[91m━━━━━━━━━━━━━━━━━━━━━━━━━━━━━━━━━━━━━\u001b[0m\u001b[90m╺\u001b[0m\u001b[90m━━\u001b[0m \u001b[32m0.9/1.0 MB\u001b[0m \u001b[31m13.7 MB/s\u001b[0m eta \u001b[36m0:00:01\u001b[0m\r\u001b[2K   \u001b[91m━━━━━━━━━━━━━━━━━━━━━━━━━━━━━━━━━━━━━━━\u001b[0m\u001b[91m╸\u001b[0m \u001b[32m1.0/1.0 MB\u001b[0m \u001b[31m12.5 MB/s\u001b[0m eta \u001b[36m0:00:01\u001b[0m\r\u001b[2K   \u001b[90m━━━━━━━━━━━━━━━━━━━━━━━━━━━━━━━━━━━━━━━━\u001b[0m \u001b[32m1.0/1.0 MB\u001b[0m \u001b[31m8.7 MB/s\u001b[0m eta \u001b[36m0:00:00\u001b[0m\n",
            "\u001b[2K   \u001b[90m━━━━━━━━━━━━━━━━━━━━━━━━━━━━━━━━━━━━━━━━\u001b[0m \u001b[32m409.5/409.5 kB\u001b[0m \u001b[31m14.1 MB/s\u001b[0m eta \u001b[36m0:00:00\u001b[0m\n",
            "\u001b[2K   \u001b[90m━━━━━━━━━━━━━━━━━━━━━━━━━━━━━━━━━━━━━━━━\u001b[0m \u001b[32m50.6/50.6 kB\u001b[0m \u001b[31m1.8 MB/s\u001b[0m eta \u001b[36m0:00:00\u001b[0m\n",
            "\u001b[2K   \u001b[90m━━━━━━━━━━━━━━━━━━━━━━━━━━━━━━━━━━━━━━━━\u001b[0m \u001b[32m1.2/1.2 MB\u001b[0m \u001b[31m15.0 MB/s\u001b[0m eta \u001b[36m0:00:00\u001b[0m\n",
            "\u001b[2K   \u001b[90m━━━━━━━━━━━━━━━━━━━━━━━━━━━━━━━━━━━━━━━━\u001b[0m \u001b[32m125.1/125.1 kB\u001b[0m \u001b[31m3.5 MB/s\u001b[0m eta \u001b[36m0:00:00\u001b[0m\n",
            "\u001b[?25h"
          ]
        }
      ],
      "source": [
        "%pip install --upgrade --quiet langchain\n",
        "%pip install --upgrade --quiet langchain-openai\n",
        "%pip install --upgrade --quiet langgraph"
      ]
    },
    {
      "cell_type": "markdown",
      "source": [
        "我們需要設置 環境變數 `OPENAI_API_KEY` ，可以直接完成，如下所示："
      ],
      "metadata": {
        "id": "CgO7S5EfssVH"
      }
    },
    {
      "cell_type": "code",
      "source": [
        "import os\n",
        "import getpass\n",
        "# from google.colab import userdata\n",
        "\n",
        "# os.environ[\"OPENAI_API_KEY\"] = userdata.get('OPENAI_API_KEY')"
      ],
      "metadata": {
        "id": "RdCheRlqstW6"
      },
      "execution_count": 2,
      "outputs": []
    },
    {
      "cell_type": "markdown",
      "source": [
        "### (可用可不用)LangSmith\n",
        "\n",
        "你用LangChain構建的許多應用程式將包含多個步驟，並多次調用LLM調用。隨著這些應用程式變得越來越複雜，能夠檢查您的鏈或代理內部到底發生了什麼變得至關重要。最好的方法是與[LangSmith](https://smith.langchain.com)合作。\n",
        "\n",
        "請注意，LangSmith 不是必需的，但它很有説明。如果您確實想使用 LangSmith，請在上面的鏈接中註冊后，請確保設置環境變數以開始記錄跟蹤："
      ],
      "metadata": {
        "id": "_du13RCysugS"
      }
    },
    {
      "cell_type": "code",
      "source": [
        "import os\n",
        "import getpass\n",
        "from datetime import datetime\n",
        "import pytz\n",
        "\n",
        "current_time = datetime.now(pytz.timezone('Asia/Taipei')).strftime(\"%Y-%m-%d %Z\")\n",
        "\n",
        "os.environ[\"LANGCHAIN_TRACING_V2\"] = \"false\" ##想要使用記得改 true, 不要時改 false.\n",
        "os.environ[\"LANGCHAIN_ENDPOINT\"] = \"https://api.smith.langchain.com\"\n",
        "os.environ[\"LANGCHAIN_PROJECT\"] = f\"LangGraph 多語言翻譯-{current_time}\"\n",
        "# os.environ[\"LANGCHAIN_API_KEY\"] = userdata.get('LANGCHAIN_API_KEY')"
      ],
      "metadata": {
        "id": "lcs9Ok6ssv6M"
      },
      "execution_count": 4,
      "outputs": []
    },
    {
      "cell_type": "markdown",
      "source": [
        "# 開始英文翻譯 Agent 設計"
      ],
      "metadata": {
        "id": "HyBz_E2msyj8"
      }
    },
    {
      "cell_type": "markdown",
      "source": [
        "## 建立 LLM"
      ],
      "metadata": {
        "id": "tcVQ3o9ds0bX"
      }
    },
    {
      "cell_type": "code",
      "source": [
        "from langchain_openai import ChatOpenAI\n",
        "\n",
        "# # 創建LLM實例\n",
        "# llm = ChatOpenAI(\n",
        "#     # model_name=\"gpt-4\",  # 修改模型版本\n",
        "#     temperature=0.7,     # 調整溫度\n",
        "#     max_tokens=1024      # 設定最大輸出 token 量\n",
        "# )\n",
        "\n",
        "llm = ChatOpenAI(\n",
        "                api_key=\"4fe1c517330b5a43a3218b241d399941.ZOi1tkW3TrSy1I3O\",\n",
        "                base_url=\"https://open.bigmodel.cn/api/paas/v4/\",\n",
        "                model=\"glm-4-flash\",\n",
        "                # model=\"glm-4-plus\",\n",
        "            )"
      ],
      "metadata": {
        "id": "KN8C9OnZszx2"
      },
      "execution_count": 5,
      "outputs": []
    },
    {
      "cell_type": "markdown",
      "source": [
        "## 建立狀態"
      ],
      "metadata": {
        "id": "mkBi9WAPs3GC"
      }
    },
    {
      "cell_type": "code",
      "source": [
        "from pydantic import Field\n",
        "from langchain_core.pydantic_v1 import BaseModel\n",
        "\n",
        "# 使用 Pydantic 定義狀態\n",
        "class TranslationState(BaseModel):\n",
        "    input_text: str = Field(description=\"待翻譯的文本\")\n",
        "    translated_text: str = Field(default=\"\", description=\"翻譯後的文本\")"
      ],
      "metadata": {
        "id": "Hq-zKQfes79x",
        "colab": {
          "base_uri": "https://localhost:8080/"
        },
        "outputId": "f61e885c-5670-4a84-f4ae-fd4410b6a832"
      },
      "execution_count": 6,
      "outputs": [
        {
          "output_type": "stream",
          "name": "stderr",
          "text": [
            "/usr/local/lib/python3.10/dist-packages/IPython/core/interactiveshell.py:3553: LangChainDeprecationWarning: As of langchain-core 0.3.0, LangChain uses pydantic v2 internally. The langchain_core.pydantic_v1 module was a compatibility shim for pydantic v1, and should no longer be used. Please update the code to import from Pydantic directly.\n",
            "\n",
            "For example, replace imports like: `from langchain_core.pydantic_v1 import BaseModel`\n",
            "with: `from pydantic import BaseModel`\n",
            "or the v1 compatibility namespace if you are working in a code base that has not been fully upgraded to pydantic 2 yet. \tfrom pydantic.v1 import BaseModel\n",
            "\n",
            "  exec(code_obj, self.user_global_ns, self.user_ns)\n"
          ]
        }
      ]
    },
    {
      "cell_type": "markdown",
      "source": [
        "## 建立節點"
      ],
      "metadata": {
        "id": "SFtiTFvBs4Ax"
      }
    },
    {
      "cell_type": "code",
      "source": [
        "def translateNode(state: TranslationState) -> TranslationState:\n",
        "    # llm = ChatOpenAI()\n",
        "    llm = ChatOpenAI(\n",
        "                api_key=\"4fe1c517330b5a43a3218b241d399941.ZOi1tkW3TrSy1I3O\",\n",
        "                base_url=\"https://open.bigmodel.cn/api/paas/v4/\",\n",
        "                model=\"glm-4-flash\",\n",
        "                # model=\"glm-4-plus\",\n",
        "            )\n",
        "    response = llm.invoke(f\"請將以下文本翻譯成英文：{state.input_text}\")\n",
        "    state.translated_text = response.content\n",
        "    return state"
      ],
      "metadata": {
        "id": "b2fvlPmgs7Ix"
      },
      "execution_count": 8,
      "outputs": []
    },
    {
      "cell_type": "markdown",
      "source": [
        "## 建立圖，並連接節點與邊"
      ],
      "metadata": {
        "id": "euzxbiT_s7l8"
      }
    },
    {
      "cell_type": "code",
      "source": [
        "from langgraph.graph import Graph, END\n",
        "\n",
        "# 創建圖\n",
        "workflow = Graph()\n",
        "\n",
        "# 添加翻譯節點\n",
        "workflow.add_node(\"translate\", translateNode)\n",
        "\n",
        "# 設置入口點\n",
        "workflow.set_entry_point(\"translate\")\n",
        "# 設置 End point\n",
        "workflow.add_edge(\"translate\", END)\n",
        "\n",
        "# 編譯圖\n",
        "app = workflow.compile()"
      ],
      "metadata": {
        "id": "vHTKVt0cs-Ic"
      },
      "execution_count": 9,
      "outputs": []
    },
    {
      "cell_type": "markdown",
      "source": [
        "## 可視化當前節點"
      ],
      "metadata": {
        "id": "0T_QBYj-s_f4"
      }
    },
    {
      "cell_type": "code",
      "source": [
        "from IPython.display import Image, display\n",
        "\n",
        "display(Image(app.get_graph(xray=True).draw_mermaid_png()))"
      ],
      "metadata": {
        "colab": {
          "base_uri": "https://localhost:8080/",
          "height": 251
        },
        "id": "4WduMYvCs_5O",
        "outputId": "a49a2a81-3383-48d2-a1f7-20bb71549163"
      },
      "execution_count": 10,
      "outputs": [
        {
          "output_type": "display_data",
          "data": {
            "image/png": "[encoded data removed]",
            "text/plain": [
              "<IPython.core.display.Image object>"
            ]
          },
          "metadata": {}
        }
      ]
    },
    {
      "cell_type": "markdown",
      "source": [
        "## 開始與圖對話"
      ],
      "metadata": {
        "id": "A-TVQliqtC6x"
      }
    },
    {
      "cell_type": "code",
      "source": [
        "initial_state: TranslationState = TranslationState(\n",
        "    input_text=\"你好，今天天氣真好。\",\n",
        ")\n",
        "\n",
        "result = app.invoke(initial_state, debug=False)"
      ],
      "metadata": {
        "id": "qEow4_phtEKW"
      },
      "execution_count": 11,
      "outputs": []
    },
    {
      "cell_type": "code",
      "source": [
        "print(f\"原文：{initial_state.input_text}\")\n",
        "print(f\"譯文：{result.translated_text}\")"
      ],
      "metadata": {
        "colab": {
          "base_uri": "https://localhost:8080/"
        },
        "id": "NASQ4KzlvHJL",
        "outputId": "b1e084b2-9352-47b6-88d9-3eaacde653f0"
      },
      "execution_count": 12,
      "outputs": [
        {
          "output_type": "stream",
          "name": "stdout",
          "text": [
            "原文：你好，今天天氣真好。\n",
            "譯文：Hello, the weather is really nice today.\n"
          ]
        }
      ]
    },
    {
      "cell_type": "markdown",
      "source": [
        "## 延伸題目\n",
        "\n",
        "為確保學員能夠靈活運用 LangGraph ，我們放了兩道題目在底下提供學員自主練習"
      ],
      "metadata": {
        "id": "BsjKb9KxUKLa"
      }
    },
    {
      "cell_type": "markdown",
      "source": [
        "### 題目ㄧ、提升翻譯品質（基礎）\n",
        "問題：如何修改 translateNode 函數中的提示，以提高翻譯品質？請在下方空白處填寫您的改進建議。"
      ],
      "metadata": {
        "id": "yZ3P-gwtUT9_"
      }
    },
    {
      "cell_type": "code",
      "source": [
        "def translateNode(state: TranslationState) -> TranslationState:\n",
        "    # llm = ChatOpenAI()\n",
        "    llm = ChatOpenAI(\n",
        "                api_key=\"4fe1c517330b5a43a3218b241d399941.ZOi1tkW3TrSy1I3O\",\n",
        "                base_url=\"https://open.bigmodel.cn/api/paas/v4/\",\n",
        "                model=\"glm-4-flash\",\n",
        "                # model=\"glm-4-plus\",\n",
        "            )\n",
        "    response = llm.invoke(f\"___________________________________\")\n",
        "    state.translated_text = response.content\n",
        "    return state"
      ],
      "metadata": {
        "id": "KizmOZ8ZUaCQ"
      },
      "execution_count": 13,
      "outputs": []
    },
    {
      "cell_type": "markdown",
      "source": [
        "小提示：修改提示可以顯著影響翻譯質量。考慮添加更多上下文、指定翻譯風格或要求更準確的術語使用等。這是一個簡單但有效的改進方法。"
      ],
      "metadata": {
        "id": "1zSEQmW2Ua9-"
      }
    },
    {
      "cell_type": "markdown",
      "source": [
        "#### 題目一、參考答案"
      ],
      "metadata": {
        "id": "bmvYv_zPU24p"
      }
    },
    {
      "cell_type": "code",
      "source": [
        "def translateNode(state: TranslationState) -> TranslationState:\n",
        "    # llm = ChatOpenAI()\n",
        "    llm = ChatOpenAI(\n",
        "                api_key=\"4fe1c517330b5a43a3218b241d399941.ZOi1tkW3TrSy1I3O\",\n",
        "                base_url=\"https://open.bigmodel.cn/api/paas/v4/\",\n",
        "                model=\"glm-4-flash\",\n",
        "                # model=\"glm-4-plus\",\n",
        "            )\n",
        "    response = llm.invoke(f\"請將以下文本精確地翻譯成英文,保持原文的語氣和風格,並確保專業術語的準確性。如果有任何文化特定的表達,請提供適當的英語等效表達：\\n\\n{state.input_text}\")\n",
        "    state.translated_text = response.content\n",
        "    return state"
      ],
      "metadata": {
        "id": "hJZ5iYZUU7Jl"
      },
      "execution_count": 14,
      "outputs": []
    },
    {
      "cell_type": "markdown",
      "source": [
        "我們在提示中加入了更具體的指示,如「精確地翻譯」、「保持原文的語氣和風格」。\n",
        "要求確保專業術語的準確性,這對於某些領域的翻譯尤其重要。\n",
        "提到了處理文化特定表達的方法,這有助於產生更自然的翻譯。"
      ],
      "metadata": {
        "id": "U_-vDjYHVAkS"
      }
    },
    {
      "cell_type": "markdown",
      "source": [
        "### 題目二、添加語言選擇\n",
        "\n",
        "問題：如何修改 TranslationState 類和 translateNode 函數，使其支持將文本翻譯成多種目標語言？請填寫下面的代碼："
      ],
      "metadata": {
        "id": "yLgneqqBUeXz"
      }
    },
    {
      "cell_type": "code",
      "source": [
        "class TranslationState(BaseModel):\n",
        "    input_text: str = Field(description=\"待翻譯的文本\")\n",
        "    translated_text: str = Field(default=\"\", description=\"翻譯後的文本\")\n",
        "\n",
        "\n",
        "def translateNode(state: TranslationState) -> TranslationState:\n",
        "    # llm = ChatOpenAI()\n",
        "    llm = ChatOpenAI(\n",
        "                api_key=\"4fe1c517330b5a43a3218b241d399941.ZOi1tkW3TrSy1I3O\",\n",
        "                base_url=\"https://open.bigmodel.cn/api/paas/v4/\",\n",
        "                model=\"glm-4-flash\",\n",
        "                # model=\"glm-4-plus\",\n",
        "            )\n",
        "    response = llm.invoke(f\"___________________________________\")\n",
        "    state.translated_text = response.content\n",
        "    return state"
      ],
      "metadata": {
        "id": "iZ3i3q56VJaC"
      },
      "execution_count": 16,
      "outputs": []
    },
    {
      "cell_type": "markdown",
      "source": [
        "小提示：反思：添加語言選擇增加了應用的靈活性。這需要修改狀態模型和翻譯節點，但不需要更改整體工作流程結構。這是一個中等難度的改進，能顯著提升應用的實用性。"
      ],
      "metadata": {
        "id": "65qj8Wq9VPM6"
      }
    },
    {
      "cell_type": "markdown",
      "source": [
        "#### 題目二、參考答案"
      ],
      "metadata": {
        "id": "Y2sp0BK3VRJm"
      }
    },
    {
      "cell_type": "code",
      "source": [
        "class TranslationState(BaseModel):\n",
        "    input_text: str = Field(description=\"待翻譯的文本\")\n",
        "    translated_text: str = Field(default=\"\", description=\"翻譯後的文本\")\n",
        "    target_language: str = Field(description=\"目標翻譯語言\")\n",
        "\n",
        "def translateNode(state: TranslationState) -> TranslationState:\n",
        "    llm = ChatOpenAI()\n",
        "    response = llm.invoke(f\"請將以下文本精確地翻譯成{state.target_language},保持原文的語氣和風格,並確保專業術語的準確性。如果有任何文化特定的表達,請提供適當的{state.target_language}等效表達：\\n\\n{state.input_text}\")\n",
        "    state.translated_text = response.content\n",
        "    return state"
      ],
      "metadata": {
        "id": "8ibAx4I2VWtM"
      },
      "execution_count": 17,
      "outputs": []
    },
    {
      "cell_type": "markdown",
      "source": [
        "說明：\n",
        "1. TranslationState 的修改：\n",
        "  - 添加了 target_language 字段,用於指定目標翻譯語言。\n",
        "  - 使用 Field 為新字段添加了描述,提高代碼的可讀性和自文檔化程度。\n",
        "2. translateNode 函數的改進：\n",
        "  - 在提示中使用了 state.target_language,使翻譯目標語言可配置。\n",
        "  - 保留了之前改進的提示內容,確保翻譯質量。"
      ],
      "metadata": {
        "id": "J2G4t2x4VXwV"
      }
    },
    {
      "cell_type": "markdown",
      "source": [
        "# 設計多語言翻譯 Agent"
      ],
      "metadata": {
        "id": "zdiMPhuZwVrg"
      }
    },
    {
      "cell_type": "markdown",
      "source": [
        "## 建立 LLM"
      ],
      "metadata": {
        "id": "DbGQZlPvwa5s"
      }
    },
    {
      "cell_type": "code",
      "source": [
        "from langchain_openai import ChatOpenAI\n",
        "\n",
        "# 創建LLM實例\n",
        "# llm = ChatOpenAI(\n",
        "#     # model_name=\"gpt-4\",  # 修改模型版本\n",
        "#     temperature=0.7,     # 調整溫度\n",
        "#     max_tokens=1024      # 設定最大輸出 token 量\n",
        "# )\n",
        "\n",
        "llm = ChatOpenAI(\n",
        "                api_key=\"4fe1c517330b5a43a3218b241d399941.ZOi1tkW3TrSy1I3O\",\n",
        "                base_url=\"https://open.bigmodel.cn/api/paas/v4/\",\n",
        "                model=\"glm-4-flash\",\n",
        "                # model=\"glm-4-plus\",\n",
        "            )"
      ],
      "metadata": {
        "id": "2v2W8wjDvhFI"
      },
      "execution_count": 18,
      "outputs": []
    },
    {
      "cell_type": "markdown",
      "source": [
        "## 建立狀態"
      ],
      "metadata": {
        "id": "lVxEm_uqwcv_"
      }
    },
    {
      "cell_type": "code",
      "source": [
        "from pydantic import Field\n",
        "from langchain_core.pydantic_v1 import BaseModel\n",
        "\n",
        "# 使用 Pydantic 定義狀態\n",
        "class TranslationState(BaseModel):\n",
        "    input_intent: str = Field(description=\"文本中意圖\")\n",
        "    input_text: str = Field(description=\"待翻譯的文本\")\n",
        "    input_text_lang_code: str = Field(description=\"待翻譯的文本語言代碼\")\n",
        "    translated_text: str = Field(default=\"\", description=\"翻譯後的文本\")\n",
        "    translated_text_lang_code: str = Field(description=\"翻譯後的文本語言代碼\")"
      ],
      "metadata": {
        "id": "JpH6UCrEweAu"
      },
      "execution_count": 19,
      "outputs": []
    },
    {
      "cell_type": "markdown",
      "source": [
        "## 建立節點"
      ],
      "metadata": {
        "id": "8Df5dJR0weSt"
      }
    },
    {
      "cell_type": "code",
      "source": [
        "from langchain_core.messages import HumanMessage, AIMessage\n",
        "\n",
        "# 辨識語系\n",
        "def detectLangCodeNode(state: TranslationState) -> TranslationState:\n",
        "    response: AIMessage = llm.invoke([HumanMessage(content=f\"輸入文字：\\n{state.input_text}\\n請返回該文字的語系代碼（例如：zh_Hant）。\\n\\n範例：\\n輸入文字：天氣真好\\n返回語系代碼：zh_Hant\\n\\n輸入文字：The weather is nice\\n返回語系代碼：en\\n\\n輸入文字：天気がいいです\\n返回語系代碼：ja\\n\\n輸入文字：날씨가 좋다\\n返回語系代碼：ko\")])\n",
        "    state.input_text_lang_code = response.content.strip()\n",
        "    return state\n",
        "\n",
        "# 偵測意圖，重新理解語意\n",
        "def detectIntentNode(state: TranslationState) -> TranslationState:\n",
        "    # 此函數用來進一步分析語句的意圖\n",
        "    response: AIMessage = llm.invoke([HumanMessage(content=f\"請分析這句話的意圖：\\n{state.input_text}\")])\n",
        "    state.input_intent = response.content.strip()  # 儲存語意分析結果\n",
        "    return state\n",
        "\n",
        "# 英文翻譯\n",
        "def translateENNode(state: TranslationState) -> TranslationState:\n",
        "    response = llm.invoke(f\"請將以下文本並且根據意圖成翻譯成英文，只需要翻譯後文本就好。\\n文本：\\n{state.input_text}，意圖：\\n{state.input_intent}，翻譯結果：\\n\")\n",
        "    state.translated_text = response.content.strip()\n",
        "    return state\n",
        "\n",
        "# 日文翻譯\n",
        "def translateJPNode(state: TranslationState) -> TranslationState:\n",
        "    # llm = ChatOpenAI()\n",
        "    llm = ChatOpenAI(\n",
        "                api_key=\"4fe1c517330b5a43a3218b241d399941.ZOi1tkW3TrSy1I3O\",\n",
        "                base_url=\"https://open.bigmodel.cn/api/paas/v4/\",\n",
        "                model=\"glm-4-flash\",\n",
        "                # model=\"glm-4-plus\",\n",
        "            )\n",
        "    response = llm.invoke(f\"請將以下文本並且根據意圖成翻譯成日文，只需要翻譯後文本就好。\\n文本：\\n{state.input_text}，意圖：\\n{state.input_intent}，翻譯結果：\\n\")\n",
        "    state.translated_text = response.content\n",
        "    return state\n"
      ],
      "metadata": {
        "id": "vlk--Mc_wggy"
      },
      "execution_count": 25,
      "outputs": []
    },
    {
      "cell_type": "markdown",
      "source": [
        "## 加入選項"
      ],
      "metadata": {
        "id": "lBQYusJ1xnxm"
      }
    },
    {
      "cell_type": "code",
      "source": [
        "# 判斷要翻譯的語系，而選擇不同 Node\n",
        "def selectLangCode(state: TranslationState) -> TranslationState:\n",
        "    if state.translated_text_lang_code == \"jp\":\n",
        "        return \"jp\"\n",
        "    elif state.translated_text_lang_code == \"en\":\n",
        "        return \"en\"\n",
        "    else:\n",
        "        return \"end\""
      ],
      "metadata": {
        "id": "OPIIdSeMxnov"
      },
      "execution_count": 26,
      "outputs": []
    },
    {
      "cell_type": "markdown",
      "source": [
        "## 建立圖，並連接節點與邊"
      ],
      "metadata": {
        "id": "S39C9b7cwjOq"
      }
    },
    {
      "cell_type": "code",
      "source": [
        "import os\n",
        "from langgraph.graph import START, END, Graph\n",
        "\n",
        "# 創建圖\n",
        "multilingualworkflow = Graph()\n",
        "\n",
        "# 添加節點\n",
        "multilingualworkflow.add_node(\"detectLangCode\", detectLangCodeNode)\n",
        "multilingualworkflow.add_node(\"detectIntent\", detectIntentNode)\n",
        "multilingualworkflow.add_node(\"translateEN\", translateENNode)\n",
        "multilingualworkflow.add_node(\"translateJP\", translateJPNode)\n",
        "\n",
        "# 設置入口點\n",
        "multilingualworkflow.set_entry_point(\"detectLangCode\")\n",
        "\n",
        "# 定義邊\n",
        "multilingualworkflow.add_edge(\"detectLangCode\", \"detectIntent\")\n",
        "multilingualworkflow.add_edge(\"translateEN\", END)\n",
        "multilingualworkflow.add_edge(\"translateJP\", END)\n",
        "\n",
        "# 添加選項\n",
        "multilingualworkflow.add_conditional_edges(\n",
        "    \"detectIntent\",\n",
        "    selectLangCode,\n",
        "    {\n",
        "        \"en\": \"translateEN\",\n",
        "        \"jp\": \"translateJP\",\n",
        "        \"end\": END\n",
        "    }\n",
        "  )\n",
        "\n",
        "# 編譯圖\n",
        "multilingualapp = multilingualworkflow.compile()\n"
      ],
      "metadata": {
        "id": "CHq1Oc0_wjzD"
      },
      "execution_count": 27,
      "outputs": []
    },
    {
      "cell_type": "markdown",
      "source": [
        "## 可視化當前節點"
      ],
      "metadata": {
        "id": "2TQzouCbwklc"
      }
    },
    {
      "cell_type": "code",
      "source": [
        "from IPython.display import Image, display\n",
        "\n",
        "display(Image(multilingualapp.get_graph(xray=True).draw_mermaid_png()))"
      ],
      "metadata": {
        "colab": {
          "base_uri": "https://localhost:8080/",
          "height": 473
        },
        "id": "atcjeEumwmlm",
        "outputId": "e9b67989-7284-40ff-fdfa-4864f635897a"
      },
      "execution_count": 28,
      "outputs": [
        {
          "output_type": "display_data",
          "data": {
            "image/png": "[encoded data removed]",
            "text/plain": [
              "<IPython.core.display.Image object>"
            ]
          },
          "metadata": {}
        }
      ]
    },
    {
      "cell_type": "markdown",
      "source": [
        "## 開始與圖對話"
      ],
      "metadata": {
        "id": "dQ0ONV2pwm3w"
      }
    },
    {
      "cell_type": "markdown",
      "source": [
        "### 中文翻譯日文"
      ],
      "metadata": {
        "id": "FHFJ_57CybYY"
      }
    },
    {
      "cell_type": "code",
      "source": [
        "initial_state: TranslationState = TranslationState(\n",
        "    input_text=\"今天天氣如何？\",\n",
        "    translated_text_lang_code=\"jp\"\n",
        ")\n",
        "\n",
        "result = multilingualapp.invoke(initial_state, debug=False)"
      ],
      "metadata": {
        "id": "8KQal9NUuJ-p"
      },
      "execution_count": 29,
      "outputs": []
    },
    {
      "cell_type": "code",
      "source": [
        "print(result)"
      ],
      "metadata": {
        "colab": {
          "base_uri": "https://localhost:8080/"
        },
        "id": "LQf-thvEwger",
        "outputId": "3354e561-dd42-4639-fbb5-5649fedc08ee"
      },
      "execution_count": 30,
      "outputs": [
        {
          "output_type": "stream",
          "name": "stdout",
          "text": [
            "input_intent='這句話的意圖通常是詢問當天的天氣狀況。在交流中，這種問法可能出於以下幾種情境：\\n\\n1. **好奇心**：對當天的天氣有興趣，想知道是晴是雨，以便安排自己的活動。\\n2. **實用性**：基於實用目的，比如決定是否帶雨具、是否需要穿暖一點或是是否適合外出。\\n3. **社交**：作為日常談話的一部分，用來開啟話題或是與人建立關係。\\n4. **助人**：可能是在他人面前提出這個問題，表示關心對方的天氣狀況，或是在請求他人提供天氣資訊。\\n\\n總的來說，這句話的意圖是獲取當地的天氣信息。' input_text='今天天氣如何？' input_text_lang_code='輸入文字：今天天氣如何？\\n返回語系代碼：zh_Hant' translated_text='今日の天気はどうですか？' translated_text_lang_code='jp'\n"
          ]
        }
      ]
    },
    {
      "cell_type": "code",
      "source": [
        "print(f\"原文：{result.input_text}\")\n",
        "print(f\"譯文：{result.translated_text}\")"
      ],
      "metadata": {
        "colab": {
          "base_uri": "https://localhost:8080/"
        },
        "id": "4eg2sHy5wipJ",
        "outputId": "db997969-ea1c-4ea2-dad2-914e56245470"
      },
      "execution_count": 31,
      "outputs": [
        {
          "output_type": "stream",
          "name": "stdout",
          "text": [
            "原文：今天天氣如何？\n",
            "譯文：今日の天気はどうですか？\n"
          ]
        }
      ]
    },
    {
      "cell_type": "markdown",
      "source": [
        "### 中文翻譯英文"
      ],
      "metadata": {
        "id": "F2tA8iDEydqz"
      }
    },
    {
      "cell_type": "code",
      "source": [
        "initial_state: TranslationState = TranslationState(\n",
        "    input_text=\"今天天氣如何？\",\n",
        "    translated_text_lang_code=\"en\"\n",
        ")\n",
        "\n",
        "result = multilingualapp.invoke(initial_state, debug=False)"
      ],
      "metadata": {
        "id": "7GYJ00nvwmG9"
      },
      "execution_count": 32,
      "outputs": []
    },
    {
      "cell_type": "code",
      "source": [
        "print(f\"原文：{result.input_text}\")\n",
        "print(f\"譯文：{result.translated_text}\")"
      ],
      "metadata": {
        "colab": {
          "base_uri": "https://localhost:8080/"
        },
        "id": "asS4pBffylNa",
        "outputId": "7077497f-6075-493b-84d2-9b1ed24f38e7"
      },
      "execution_count": 33,
      "outputs": [
        {
          "output_type": "stream",
          "name": "stdout",
          "text": [
            "原文：今天天氣如何？\n",
            "譯文：How is the weather today?\n"
          ]
        }
      ]
    },
    {
      "cell_type": "markdown",
      "source": [
        "### 英文翻譯日文"
      ],
      "metadata": {
        "id": "Uc30PtbOyfOP"
      }
    },
    {
      "cell_type": "code",
      "source": [
        "initial_state: TranslationState = TranslationState(\n",
        "    input_text=\"How to go to Taipei Main Station\",\n",
        "    translated_text_lang_code=\"jp\"\n",
        ")\n",
        "\n",
        "result = multilingualapp.invoke(initial_state, debug=False)"
      ],
      "metadata": {
        "id": "sSn-50Ytyg5O"
      },
      "execution_count": 34,
      "outputs": []
    },
    {
      "cell_type": "code",
      "source": [
        "print(f\"原文：{result.input_text}\")\n",
        "print(f\"譯文：{result.translated_text}\")"
      ],
      "metadata": {
        "colab": {
          "base_uri": "https://localhost:8080/"
        },
        "id": "NZvBQ1v-yqod",
        "outputId": "f0f3bf05-480e-4b7a-d251-6ac40eae1ba2"
      },
      "execution_count": 35,
      "outputs": [
        {
          "output_type": "stream",
          "name": "stdout",
          "text": [
            "原文：How to go to Taipei Main Station\n",
            "譯文：台北車站への行き方\n"
          ]
        }
      ]
    },
    {
      "cell_type": "markdown",
      "source": [
        "## 反思與延伸作業\n",
        "恭喜你完成了這個使用 LangGraph 和 LLM 處理多語言翻譯的實踐！現在讓我們進行一些反思，並探索如何進一步應用和擴展你所學到的知識。\n",
        "\n"
      ],
      "metadata": {
        "id": "3-fBGoNG0NP_"
      }
    },
    {
      "cell_type": "markdown",
      "source": [
        "### 反思問題\n",
        "\n",
        "1. 比較 LangGraph 與您之前使用過的其他工作流程工具或框架，它們有哪些異同？LangGraph 在處理語言相關任務時有哪些優勢？\n",
        "\n",
        "2. 我們的翻譯應用目前是如何處理錯誤的？您認為還有哪些可能的錯誤情況沒有被考慮到？如何進一步改進錯誤處理機制？\n",
        "\n",
        "3. 從用戶體驗的角度來看，您認為當前的翻譯應用還有哪些可以改進的地方？"
      ],
      "metadata": {
        "id": "Rv1GQ4cj0R_n"
      }
    },
    {
      "cell_type": "markdown",
      "source": [
        "### 回家作業\n",
        "\n",
        "1. 擴展功能：嘗試在翻譯應用中添加一個新的節點，實現文本摘要功能。這個節點應該能夠接收原文和翻譯後的文本，然後生成這兩種語言的摘要。思考這個新功能如何融入現有的工作流程。\n",
        "\n",
        "2. 領域特化：選擇一個特定領域（如醫療、法律或技術文檔），並思考如何調整當前的翻譯應用以更好地處理該領域的專業術語和特殊要求。提出具體的改進建議和實施步驟。\n",
        "\n",
        "3. 用戶界面設計：假設您要為這個翻譯應用開發一個基於 Web 的用戶界面。繪製一個簡單的線框圖，說明用戶如何輸入文本、選擇語言、查看翻譯結果等。考慮如何在界面中展示批量翻譯的進度和結果。\n",
        "\n",
        "4. 創新應用：基於您對 LangGraph 的理解，構思一個全新的、創新的語言處理應用。它可以是一個多步驟的文本分析工具、一個智能寫作助手，或者任何您認為有趣且有用的應用。描述這個應用的主要功能和工作流程，並解釋為什麼 LangGraph 適合用來實現它。\n",
        "\n",
        "完成這些反思和作業將幫助您更深入地理解 LangGraph 的工作原理和應用潛力，同時也能激發您在實際項目中的創新思維。祝您學習愉快！"
      ],
      "metadata": {
        "id": "J1E94-GW0dBc"
      }
    },
    {
      "cell_type": "code",
      "source": [],
      "metadata": {
        "id": "BA1OxlRD0Wad"
      },
      "execution_count": null,
      "outputs": []
    }
  ]
}
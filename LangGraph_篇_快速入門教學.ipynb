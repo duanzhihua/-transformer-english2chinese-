{
  "cells": [
    {
      "cell_type": "markdown",
      "metadata": {
        "id": "view-in-github",
        "colab_type": "text"
      },
      "source": [
        "<a href=\"https://colab.research.google.com/github/duanzhihua/-transformer-english2chinese-/blob/main/LangGraph_%E7%AF%87_%E5%BF%AB%E9%80%9F%E5%85%A5%E9%96%80%E6%95%99%E5%AD%B8.ipynb\" target=\"_parent\"><img src=\"https://colab.research.google.com/assets/colab-badge.svg\" alt=\"Open In Colab\"/></a>"
      ]
    },
    {
      "cell_type": "markdown",
      "metadata": {
        "id": "aaKuStz1psEM"
      },
      "source": [
        "# 🥱 LangGraph 篇_快速入門教學\n",
        "\n",
        "❤️ Created by [hengshiousheu](https://huggingface.co/Heng666)."
      ]
    },
    {
      "cell_type": "markdown",
      "metadata": {
        "id": "zfOkw6tWq3iW"
      },
      "source": [
        "#LangGraph 介紹\n",
        "\n",
        "LangGraph 是一個使用 LLM 建立有狀態多參與者應用程式的函式庫。受 Pregel 和 Apache Beam 的啟發，LangGraph 允許您使用常規 Python 函數（或 JS）跨週期性計算步驟協調和檢查多個鏈（或參與者）。公共介面的靈感來自 NetworkX。\n",
        "\n",
        "它的主要用途是LLM為應用程式添加循環和持久性。，可以使用[LangChain Expression Language](https://python.langchain.com/docs/expression_language/) 協助進行開發。"
      ]
    },
    {
      "cell_type": "markdown",
      "metadata": {
        "id": "FLyvgOBRrWFG"
      },
      "source": [
        "## 環境建置\n",
        "\n",
        "### 安裝套件包\n",
        "\n",
        "在本演練中，\n",
        "\n",
        "我們將使用以下套件："
      ]
    },
    {
      "cell_type": "code",
      "execution_count": null,
      "metadata": {
        "colab": {
          "background_save": true
        },
        "id": "IRvvl0nFoOHl",
        "outputId": "ce258e37-83d5-412f-fd47-e5fb74566860"
      },
      "outputs": [
        {
          "name": "stdout",
          "output_type": "stream",
          "text": [
            "\u001b[2K     \u001b[90m━━━━━━━━━━━━━━━━━━━━━━━━━━━━━━━━━━━━━━━━\u001b[0m \u001b[32m50.4/50.4 kB\u001b[0m \u001b[31m450.8 kB/s\u001b[0m eta \u001b[36m0:00:00\u001b[0m\n",
            "\u001b[2K   \u001b[90m━━━━━━━━━━━━━━━━━━━━━━━━━━━━━━━━━━━━━━━━\u001b[0m \u001b[32m1.0/1.0 MB\u001b[0m \u001b[31m21.7 MB/s\u001b[0m eta \u001b[36m0:00:00\u001b[0m\n",
            "\u001b[2K   \u001b[90m━━━━━━━━━━━━━━━━━━━━━━━━━━━━━━━━━━━━━━━━\u001b[0m \u001b[32m396.2/396.2 kB\u001b[0m \u001b[31m3.1 MB/s\u001b[0m eta \u001b[36m0:00:00\u001b[0m\n",
            "\u001b[2K   \u001b[90m━━━━━━━━━━━━━━━━━━━━━━━━━━━━━━━━━━━━━━━━\u001b[0m \u001b[32m150.7/150.7 kB\u001b[0m \u001b[31m6.3 MB/s\u001b[0m eta \u001b[36m0:00:00\u001b[0m\n",
            "\u001b[2K   \u001b[90m━━━━━━━━━━━━━━━━━━━━━━━━━━━━━━━━━━━━━━━━\u001b[0m \u001b[32m76.4/76.4 kB\u001b[0m \u001b[31m3.3 MB/s\u001b[0m eta \u001b[36m0:00:00\u001b[0m\n",
            "\u001b[2K   \u001b[90m━━━━━━━━━━━━━━━━━━━━━━━━━━━━━━━━━━━━━━━━\u001b[0m \u001b[32m77.9/77.9 kB\u001b[0m \u001b[31m3.1 MB/s\u001b[0m eta \u001b[36m0:00:00\u001b[0m\n",
            "\u001b[2K   \u001b[90m━━━━━━━━━━━━━━━━━━━━━━━━━━━━━━━━━━━━━━━━\u001b[0m \u001b[32m141.9/141.9 kB\u001b[0m \u001b[31m4.0 MB/s\u001b[0m eta \u001b[36m0:00:00\u001b[0m\n",
            "\u001b[2K   \u001b[90m━━━━━━━━━━━━━━━━━━━━━━━━━━━━━━━━━━━━━━━━\u001b[0m \u001b[32m58.3/58.3 kB\u001b[0m \u001b[31m2.9 MB/s\u001b[0m eta \u001b[36m0:00:00\u001b[0m\n",
            "\u001b[2K   \u001b[90m━━━━━━━━━━━━━━━━━━━━━━━━━━━━━━━━━━━━━━━━\u001b[0m \u001b[32m52.0/52.0 kB\u001b[0m \u001b[31m2.4 MB/s\u001b[0m eta \u001b[36m0:00:00\u001b[0m\n",
            "\u001b[2K   \u001b[90m━━━━━━━━━━━━━━━━━━━━━━━━━━━━━━━━━━━━━━━━\u001b[0m \u001b[32m365.7/365.7 kB\u001b[0m \u001b[31m12.4 MB/s\u001b[0m eta \u001b[36m0:00:00\u001b[0m\n",
            "\u001b[2K   \u001b[90m━━━━━━━━━━━━━━━━━━━━━━━━━━━━━━━━━━━━━━━━\u001b[0m \u001b[32m1.1/1.1 MB\u001b[0m \u001b[31m34.4 MB/s\u001b[0m eta \u001b[36m0:00:00\u001b[0m\n",
            "\u001b[2K   \u001b[90m━━━━━━━━━━━━━━━━━━━━━━━━━━━━━━━━━━━━━━━━\u001b[0m \u001b[32m318.9/318.9 kB\u001b[0m \u001b[31m12.5 MB/s\u001b[0m eta \u001b[36m0:00:00\u001b[0m\n",
            "\u001b[2K   \u001b[90m━━━━━━━━━━━━━━━━━━━━━━━━━━━━━━━━━━━━━━━━\u001b[0m \u001b[32m90.9/90.9 kB\u001b[0m \u001b[31m5.1 MB/s\u001b[0m eta \u001b[36m0:00:00\u001b[0m\n",
            "\u001b[?25h"
          ]
        }
      ],
      "source": [
        "%pip install --upgrade --quiet langchain\n",
        "%pip install --upgrade --quiet langchain-openai\n",
        "%pip install --upgrade --quiet langgraph"
      ]
    },
    {
      "cell_type": "markdown",
      "metadata": {
        "id": "fS1j5caZrecX"
      },
      "source": [
        "我們需要設置 環境變數 `OPENAI_API_KEY` ，可以直接完成，如下所示："
      ]
    },
    {
      "cell_type": "code",
      "execution_count": null,
      "metadata": {
        "colab": {
          "background_save": true
        },
        "id": "RPD8OU-YrgrN",
        "outputId": "07df8ae7-5bf4-45ee-fbc2-688a2a26f2d6"
      },
      "outputs": [
        {
          "ename": "TimeoutException",
          "evalue": "Requesting secret OPENAI_API_KEY timed out. Secrets can only be fetched when running from the Colab UI.",
          "output_type": "error",
          "traceback": [
            "\u001b[0;31m---------------------------------------------------------------------------\u001b[0m",
            "\u001b[0;31mTimeoutException\u001b[0m                          Traceback (most recent call last)",
            "\u001b[0;32m<ipython-input-2-d589fa8dab5b>\u001b[0m in \u001b[0;36m<cell line: 5>\u001b[0;34m()\u001b[0m\n\u001b[1;32m      3\u001b[0m \u001b[0;32mfrom\u001b[0m \u001b[0mgoogle\u001b[0m\u001b[0;34m.\u001b[0m\u001b[0mcolab\u001b[0m \u001b[0;32mimport\u001b[0m \u001b[0muserdata\u001b[0m\u001b[0;34m\u001b[0m\u001b[0;34m\u001b[0m\u001b[0m\n\u001b[1;32m      4\u001b[0m \u001b[0;34m\u001b[0m\u001b[0m\n\u001b[0;32m----> 5\u001b[0;31m \u001b[0mos\u001b[0m\u001b[0;34m.\u001b[0m\u001b[0menviron\u001b[0m\u001b[0;34m[\u001b[0m\u001b[0;34m\"OPENAI_API_KEY\"\u001b[0m\u001b[0;34m]\u001b[0m \u001b[0;34m=\u001b[0m \u001b[0muserdata\u001b[0m\u001b[0;34m.\u001b[0m\u001b[0mget\u001b[0m\u001b[0;34m(\u001b[0m\u001b[0;34m'OPENAI_API_KEY'\u001b[0m\u001b[0;34m)\u001b[0m\u001b[0;34m\u001b[0m\u001b[0;34m\u001b[0m\u001b[0m\n\u001b[0m",
            "\u001b[0;32m/usr/local/lib/python3.10/dist-packages/google/colab/userdata.py\u001b[0m in \u001b[0;36mget\u001b[0;34m(key)\u001b[0m\n\u001b[1;32m     64\u001b[0m     )\n\u001b[1;32m     65\u001b[0m   \u001b[0;32mif\u001b[0m \u001b[0;32mnot\u001b[0m \u001b[0mresp\u001b[0m\u001b[0;34m:\u001b[0m\u001b[0;34m\u001b[0m\u001b[0;34m\u001b[0m\u001b[0m\n\u001b[0;32m---> 66\u001b[0;31m     \u001b[0;32mraise\u001b[0m \u001b[0mTimeoutException\u001b[0m\u001b[0;34m(\u001b[0m\u001b[0mkey\u001b[0m\u001b[0;34m)\u001b[0m\u001b[0;34m\u001b[0m\u001b[0;34m\u001b[0m\u001b[0m\n\u001b[0m\u001b[1;32m     67\u001b[0m   \u001b[0;32mif\u001b[0m \u001b[0;32mnot\u001b[0m \u001b[0mresp\u001b[0m\u001b[0;34m.\u001b[0m\u001b[0mget\u001b[0m\u001b[0;34m(\u001b[0m\u001b[0;34m'exists'\u001b[0m\u001b[0;34m,\u001b[0m \u001b[0;32mFalse\u001b[0m\u001b[0;34m)\u001b[0m\u001b[0;34m:\u001b[0m\u001b[0;34m\u001b[0m\u001b[0;34m\u001b[0m\u001b[0m\n\u001b[1;32m     68\u001b[0m     \u001b[0;32mraise\u001b[0m \u001b[0mSecretNotFoundError\u001b[0m\u001b[0;34m(\u001b[0m\u001b[0mkey\u001b[0m\u001b[0;34m)\u001b[0m\u001b[0;34m\u001b[0m\u001b[0;34m\u001b[0m\u001b[0m\n",
            "\u001b[0;31mTimeoutException\u001b[0m: Requesting secret OPENAI_API_KEY timed out. Secrets can only be fetched when running from the Colab UI."
          ]
        }
      ],
      "source": [
        "import os\n",
        "import getpass\n",
        "from google.colab import userdata\n",
        "\n",
        "os.environ[\"OPENAI_API_KEY\"] = userdata.get('OPENAI_API_KEY')"
      ]
    },
    {
      "cell_type": "markdown",
      "metadata": {
        "id": "0izo9ri-sILT"
      },
      "source": [
        "### (可用可不用)LangSmith\n",
        "\n",
        "你用LangChain構建的許多應用程式將包含多個步驟，並多次調用LLM調用。隨著這些應用程式變得越來越複雜，能夠檢查您的鏈或代理內部到底發生了什麼變得至關重要。最好的方法是與[LangSmith](https://smith.langchain.com)合作。\n",
        "\n",
        "請注意，LangSmith 不是必需的，但它很有説明。如果您確實想使用 LangSmith，請在上面的鏈接中註冊后，請確保設置環境變數以開始記錄跟蹤："
      ]
    },
    {
      "cell_type": "code",
      "execution_count": null,
      "metadata": {
        "id": "r9zPYhAaodpd"
      },
      "outputs": [],
      "source": [
        "import os\n",
        "import getpass\n",
        "\n",
        "os.environ[\"LANGCHAIN_TRACING_V2\"] = \"false\" ##想要使用記得改 true, 不要時改 false.\n",
        "os.environ[\"LANGCHAIN_ENDPOINT\"] = \"https://api.smith.langchain.com\"\n",
        "os.environ[\"LANGCHAIN_API_KEY\"] = userdata.get('LANGCHAIN_API_KEY')"
      ]
    },
    {
      "cell_type": "markdown",
      "metadata": {
        "id": "nyfMHB9hFqYz"
      },
      "source": [
        "## 開始第一個圖\n",
        "\n",
        "創建了一個非常簡單的LangGraph工作流,它只包含一個節點(\"first_node\"),該節點使用ChatOpenAI模型處理輸入,然後直接結束。"
      ]
    },
    {
      "cell_type": "code",
      "execution_count": null,
      "metadata": {
        "id": "tqRFaDQXGHbv"
      },
      "outputs": [],
      "source": [
        "from langchain_openai import ChatOpenAI\n",
        "from langchain_core.messages import HumanMessage\n",
        "from langgraph.graph import END, MessageGraph\n",
        "\n",
        "# 定義模型:\n",
        "model = ChatOpenAI(temperature=0)\n",
        "\n",
        "# 初始化圖形:\n",
        "graph = MessageGraph()\n",
        "\n",
        "# 添加節點:\n",
        "graph.add_node(\"first_node\", model)\n",
        "\n",
        "# 添加邊:\n",
        "graph.add_edge(\"first_node\", END)\n",
        "\n",
        "# 設置入口點:\n",
        "graph.set_entry_point(\"first_node\")\n",
        "\n",
        "# 編譯圖:\n",
        "runnable = graph.compile()"
      ]
    },
    {
      "cell_type": "markdown",
      "metadata": {
        "id": "-JEATPOTGus1"
      },
      "source": [
        "開始與 Graph 溝通"
      ]
    },
    {
      "cell_type": "code",
      "execution_count": null,
      "metadata": {
        "colab": {
          "base_uri": "https://localhost:8080/"
        },
        "id": "p8Bx3g0aGU8U",
        "outputId": "7c5f715b-164c-45a6-8a44-0cbafcc4f825"
      },
      "outputs": [
        {
          "name": "stdout",
          "output_type": "stream",
          "text": [
            "human: 請問中華民國總統是誰？\n",
            "ai: 中華民國（台灣）的總統目前是蔡英文。\n"
          ]
        }
      ],
      "source": [
        "Message = \"請問中華民國總統是誰？\"\n",
        "response = runnable.invoke(HumanMessage(Message))\n",
        "\n",
        "for r in response:\n",
        "    print(\"{}: {}\".format(r.type, r.content))"
      ]
    },
    {
      "cell_type": "markdown",
      "metadata": {
        "id": "hOW6HA8-G8ot"
      },
      "source": [
        "## 可視化結果"
      ]
    },
    {
      "cell_type": "code",
      "execution_count": null,
      "metadata": {
        "colab": {
          "base_uri": "https://localhost:8080/",
          "height": 236
        },
        "id": "Z8vw4PMPG6dp",
        "outputId": "a293a49e-132e-4937-9b38-4c21aef1bd80"
      },
      "outputs": [
        {
          "data": {
            "image/jpeg": "[encoded data removed]",
            "text/plain": [
              "<IPython.core.display.Image object>"
            ]
          },
          "metadata": {},
          "output_type": "display_data"
        }
      ],
      "source": [
        "from IPython.display import Image, display\n",
        "\n",
        "display(Image(runnable.get_graph(xray=True).draw_mermaid_png()))"
      ]
    },
    {
      "cell_type": "markdown",
      "metadata": {
        "id": "syUpvKPcUvJ_"
      },
      "source": [
        "# 重新認識 LangGraph 元素組成\n",
        "\n",
        "LangGraph 透過專注於四個慣見元件來簡化 AI Agent 開發：\n",
        "\n",
        "- Graph:  它是LangGraph的核心元件，是節點和邊的集合。\n",
        "- State: 在節點之間轉換期間維護的訊息，由每個節點引用和更新。\n",
        "- Node: 表示圖中各個步驟或狀態並充當特定操作或檢查點的元素。\n",
        "- Edge: 表示節點之間的連接並定義轉換條件和操作。您可以根據特定邏輯（例如條件邊）控制轉換。\n",
        "\n",
        "LangGraph 透過在網路中不同的節點之間傳遞訊息來處理資訊。每個節點代表一個可執行任務的點。當節點完成其任務時，他會向一個或多個其他節點發送訊息，執行自己的任務後並將結果傳遞給下一個節點。當圖開始運作時，所有節點都處於非活動狀態，等待訊息觸發。"
      ]
    },
    {
      "cell_type": "markdown",
      "metadata": {
        "id": "dE9o8IFdY5nC"
      },
      "source": [
        "## Graph\n",
        "\n",
        "Graph是管理整個圖的元件，是LangGraph的核心。對於基本用法，請使用名為 StateGraph 的類別並使用下面描述的 State 對其進行初始化。"
      ]
    },
    {
      "cell_type": "code",
      "execution_count": null,
      "metadata": {
        "id": "9i7QCA57G_Yc"
      },
      "outputs": [],
      "source": [
        "from langchain_core.pydantic_v1 import BaseModel\n",
        "from langgraph.graph import StateGraph\n",
        "\n",
        "# 定義狀態\n",
        "class State(BaseModel):\n",
        "    value: str\n",
        "\n",
        "# Stateを引数としてGraphを初期化\n",
        "graph = StateGraph(State)"
      ]
    },
    {
      "cell_type": "markdown",
      "metadata": {
        "id": "aou5e2QAZGWM"
      },
      "source": [
        "## State\n",
        "State 是傳遞給圖中的 Node 和 Edge 的狀態物件。\n",
        "\n",
        "對於狀態，您可以使用 typing 模組中的“TypeDict”或“Pydantic's BaseModel”。\n",
        "\n",
        "以下是繼承自 Pydantic 的 State 的範例。\n",
        "\n"
      ]
    },
    {
      "cell_type": "code",
      "execution_count": null,
      "metadata": {
        "id": "1_UvvqJdZdCo"
      },
      "outputs": [],
      "source": [
        "# 定義狀態\n",
        "class State(BaseModel):\n",
        "    value: str"
      ]
    },
    {
      "cell_type": "markdown",
      "metadata": {
        "id": "WLLUbM4FZib_"
      },
      "source": [
        "## Node\n",
        "\n",
        "Node 是在圖上執行實際步驟的元件。\n",
        "\n",
        "例如，實際使用LangChain呼叫LLM模型的過程是在Node上完成的。\n",
        "\n",
        "在 Node 中，您可以使用帶有簽名` (State、Config) -> State `的函數。"
      ]
    },
    {
      "cell_type": "code",
      "execution_count": null,
      "metadata": {
        "id": "Gvnf_IvTZu9h"
      },
      "outputs": [],
      "source": [
        "from langchain_core.runnables import RunnableConfig\n",
        "\n",
        "# 宣告 Node\n",
        "def node(state: State, config: RunnableConfig):\n",
        "    return {\"value\": \"hoge\"}\n",
        "\n",
        "#將節點放入 Graph 中\n",
        "graph.add_node(\"node\", node)"
      ]
    },
    {
      "cell_type": "markdown",
      "metadata": {
        "id": "hQl1rtFDaFi8"
      },
      "source": [
        "## Edge\n",
        "\n",
        "邊是定義每個節點或圖行為方式（路由、定義起點等）的元件。"
      ]
    },
    {
      "cell_type": "code",
      "execution_count": null,
      "metadata": {
        "id": "wnAT32QIaGaY"
      },
      "outputs": [],
      "source": [
        "# 宣告兩個節點\n",
        "def node(state: State, config: RunnableConfig):\n",
        "    return {\"value\": \"hoge\"}\n",
        "\n",
        "def node2(state: State, config: RunnableConfig):\n",
        "    return {\"value\": \"fuga\"}\n",
        "\n",
        "graph_builder = StateGraph(State)\n",
        "graph_builder.add_node(\"node\", node)\n",
        "graph_builder.add_node(\"node2\", node2)\n",
        "\n",
        "# 使用 Edge 將 Node 進行連接\n",
        "graph_builder.add_edge(\"node\", \"node2\")\n",
        "\n",
        "# 宣告 Graph 起始點\n",
        "graph_builder.set_entry_point(\"node\")\n",
        "\n",
        "# 宣告 Graph 終點\n",
        "graph_builder.set_finish_point(\"node2\")"
      ]
    },
    {
      "cell_type": "markdown",
      "metadata": {
        "id": "c_89qLxWab4B"
      },
      "source": [
        "## 全部結合再一起"
      ]
    },
    {
      "cell_type": "code",
      "execution_count": null,
      "metadata": {
        "colab": {
          "base_uri": "https://localhost:8080/"
        },
        "id": "wMApnfHFaOK7",
        "outputId": "c83bc78a-9c5b-4e11-b8e1-d6cf8b4e2fd8"
      },
      "outputs": [
        {
          "data": {
            "text/plain": [
              "{'value': '2'}"
            ]
          },
          "execution_count": 11,
          "metadata": {},
          "output_type": "execute_result"
        }
      ],
      "source": [
        "from typing import Annotated\n",
        "from typing_extensions import TypedDict\n",
        "from langchain_core.runnables import RunnableConfig\n",
        "from langgraph.graph import StateGraph\n",
        "\n",
        "# 定義狀態\n",
        "class State(TypedDict):\n",
        "    value: str\n",
        "\n",
        "# 宣告 Node\n",
        "def node(state: State, config: RunnableConfig):\n",
        "    return {\"value\": \"1\"}\n",
        "\n",
        "def node2(state: State, config: RunnableConfig):\n",
        "    return {\"value\": \"2\"}\n",
        "\n",
        "# StateGraph\n",
        "graph_builder = StateGraph(State)\n",
        "\n",
        "# Node\n",
        "graph_builder.add_node(\"node\", node)\n",
        "graph_builder.add_node(\"node2\", node2)\n",
        "\n",
        "# Edge\n",
        "graph_builder.add_edge(\"node\", \"node2\")\n",
        "\n",
        "# 起始點\n",
        "graph_builder.set_entry_point(\"node\")\n",
        "\n",
        "# 終點\n",
        "graph_builder.set_finish_point(\"node2\")\n",
        "\n",
        "# 宣告 Graph\n",
        "graph = graph_builder.compile()\n",
        "\n",
        "\n",
        "graph.invoke({\"value\": \"\"})"
      ]
    },
    {
      "cell_type": "markdown",
      "metadata": {
        "id": "ESwuKizCa62k"
      },
      "source": [
        "將結果可視化出來"
      ]
    },
    {
      "cell_type": "code",
      "execution_count": null,
      "metadata": {
        "colab": {
          "base_uri": "https://localhost:8080/",
          "height": 320
        },
        "id": "U1vlWq4sa9lN",
        "outputId": "8a7d7b7a-c795-44ba-e647-2349ad03c2c7"
      },
      "outputs": [
        {
          "data": {
            "image/jpeg": "[encoded data removed]",
            "text/plain": [
              "<IPython.core.display.Image object>"
            ]
          },
          "metadata": {},
          "output_type": "display_data"
        }
      ],
      "source": [
        "from IPython.display import Image, display\n",
        "\n",
        "display(Image(graph.get_graph(xray=True).draw_mermaid_png()))"
      ]
    },
    {
      "cell_type": "markdown",
      "metadata": {
        "id": "9Welk8drbXp_"
      },
      "source": [
        "# 結語\n",
        "\n",
        "上面我們介紹了LangGraph的基本用法。"
      ]
    },
    {
      "cell_type": "code",
      "execution_count": null,
      "metadata": {
        "id": "VBtQ2cjoa_j1"
      },
      "outputs": [],
      "source": []
    }
  ],
  "metadata": {
    "colab": {
      "provenance": [],
      "include_colab_link": true
    },
    "kernelspec": {
      "display_name": "Python 3",
      "name": "python3"
    },
    "language_info": {
      "name": "python"
    }
  },
  "nbformat": 4,
  "nbformat_minor": 0
}